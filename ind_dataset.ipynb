{
 "cells": [
  {
   "cell_type": "code",
   "execution_count": 1,
   "metadata": {},
   "outputs": [],
   "source": [
    "import numpy as np\n",
    "import pandas as pd\n",
    "import os.path\n",
    "import cv2\n",
    "import matplotlib.pyplot as plt\n",
    "from os import path\n",
    "import seaborn as sns\n",
    "\n",
    "# Custom modules\n",
    "from modules import voiddetect as vd\n",
    "from modules import select_voidboundaries as sel\n",
    "from modules import gbvoid_dataset as gbvoid\n",
    "from modules import void_parameter as void_parameter"
   ]
  },
  {
   "cell_type": "code",
   "execution_count": null,
   "metadata": {},
   "outputs": [],
   "source": [
    "inputs = ['1_001', '1_002', '1_003', '1_004', '1_005', '1_006', '1_007', '1_008', '1_009', '1_010',\n",
    "          '2_001', '2_002', '2_003', '2_004', '2_005', '2_006', '2_007', '2_008', '2_009',\n",
    "          '3_001', '3_002', '3_003', '3_004', '3_005', '3_006', '3_007', '3_008', '3_009', '3_010',\n",
    "          '4_001', '4_002', '4_003', '4_004', '4_005', '4_007', '4_008', '4_009',\n",
    "          '5_001', '5_002', '5_003', '5_004', '5_005', '5_006', '5_007', '5_008', '5_009', '5_010', '5_011',\n",
    "          '6_001', '6_002', '6_003', '6_004', '6_005', '6_006', '6_007', '6_008', '6_009', '6_010']"
   ]
  },
  {
   "cell_type": "code",
   "execution_count": 8,
   "metadata": {},
   "outputs": [
    {
     "name": "stdout",
     "output_type": "stream",
     "text": [
      "(3934, 31)\n"
     ]
    },
    {
     "data": {
      "text/html": [
       "<div>\n",
       "<style scoped>\n",
       "    .dataframe tbody tr th:only-of-type {\n",
       "        vertical-align: middle;\n",
       "    }\n",
       "\n",
       "    .dataframe tbody tr th {\n",
       "        vertical-align: top;\n",
       "    }\n",
       "\n",
       "    .dataframe thead th {\n",
       "        text-align: right;\n",
       "    }\n",
       "</style>\n",
       "<table border=\"1\" class=\"dataframe\">\n",
       "  <thead>\n",
       "    <tr style=\"text-align: right;\">\n",
       "      <th></th>\n",
       "      <th>phi1_right</th>\n",
       "      <th>PHI_right</th>\n",
       "      <th>phi2_right</th>\n",
       "      <th>phi1_left</th>\n",
       "      <th>PHI_left</th>\n",
       "      <th>phi2_left</th>\n",
       "      <th>misorientation</th>\n",
       "      <th>mis_x_right</th>\n",
       "      <th>mis_y_right</th>\n",
       "      <th>mis_z_right</th>\n",
       "      <th>...</th>\n",
       "      <th>Sigma</th>\n",
       "      <th>Distance_Center</th>\n",
       "      <th>Void_id</th>\n",
       "      <th>x_junction</th>\n",
       "      <th>y_junction</th>\n",
       "      <th>Rebuild_len</th>\n",
       "      <th>Junction</th>\n",
       "      <th>Prox_par</th>\n",
       "      <th>Void</th>\n",
       "      <th>Void_Parameter</th>\n",
       "    </tr>\n",
       "  </thead>\n",
       "  <tbody>\n",
       "    <tr>\n",
       "      <th>0</th>\n",
       "      <td>0.180</td>\n",
       "      <td>0.250</td>\n",
       "      <td>6.179</td>\n",
       "      <td>5.039</td>\n",
       "      <td>0.678</td>\n",
       "      <td>1.946</td>\n",
       "      <td>55.90</td>\n",
       "      <td>5.0</td>\n",
       "      <td>11.0</td>\n",
       "      <td>-12.0</td>\n",
       "      <td>...</td>\n",
       "      <td>0.0</td>\n",
       "      <td>811.319262</td>\n",
       "      <td>-1.0</td>\n",
       "      <td>-1.0</td>\n",
       "      <td>-1.0</td>\n",
       "      <td>-1.0</td>\n",
       "      <td>-1.0</td>\n",
       "      <td>-1.0</td>\n",
       "      <td>0.0</td>\n",
       "      <td>0.0</td>\n",
       "    </tr>\n",
       "    <tr>\n",
       "      <th>1</th>\n",
       "      <td>0.180</td>\n",
       "      <td>0.250</td>\n",
       "      <td>6.179</td>\n",
       "      <td>6.066</td>\n",
       "      <td>0.356</td>\n",
       "      <td>0.319</td>\n",
       "      <td>9.33</td>\n",
       "      <td>-14.0</td>\n",
       "      <td>20.0</td>\n",
       "      <td>-7.0</td>\n",
       "      <td>...</td>\n",
       "      <td>0.0</td>\n",
       "      <td>806.443713</td>\n",
       "      <td>-1.0</td>\n",
       "      <td>-1.0</td>\n",
       "      <td>-1.0</td>\n",
       "      <td>-1.0</td>\n",
       "      <td>-1.0</td>\n",
       "      <td>-1.0</td>\n",
       "      <td>0.0</td>\n",
       "      <td>0.0</td>\n",
       "    </tr>\n",
       "    <tr>\n",
       "      <th>2</th>\n",
       "      <td>3.511</td>\n",
       "      <td>0.204</td>\n",
       "      <td>2.663</td>\n",
       "      <td>6.066</td>\n",
       "      <td>0.356</td>\n",
       "      <td>0.319</td>\n",
       "      <td>32.61</td>\n",
       "      <td>-26.0</td>\n",
       "      <td>0.0</td>\n",
       "      <td>-9.0</td>\n",
       "      <td>...</td>\n",
       "      <td>0.0</td>\n",
       "      <td>794.650128</td>\n",
       "      <td>-1.0</td>\n",
       "      <td>-1.0</td>\n",
       "      <td>-1.0</td>\n",
       "      <td>-1.0</td>\n",
       "      <td>-1.0</td>\n",
       "      <td>-1.0</td>\n",
       "      <td>0.0</td>\n",
       "      <td>0.0</td>\n",
       "    </tr>\n",
       "    <tr>\n",
       "      <th>3</th>\n",
       "      <td>3.315</td>\n",
       "      <td>0.286</td>\n",
       "      <td>2.941</td>\n",
       "      <td>3.511</td>\n",
       "      <td>0.204</td>\n",
       "      <td>2.663</td>\n",
       "      <td>7.38</td>\n",
       "      <td>-21.0</td>\n",
       "      <td>4.0</td>\n",
       "      <td>20.0</td>\n",
       "      <td>...</td>\n",
       "      <td>0.0</td>\n",
       "      <td>778.051543</td>\n",
       "      <td>-1.0</td>\n",
       "      <td>-1.0</td>\n",
       "      <td>-1.0</td>\n",
       "      <td>-1.0</td>\n",
       "      <td>-1.0</td>\n",
       "      <td>-1.0</td>\n",
       "      <td>0.0</td>\n",
       "      <td>0.0</td>\n",
       "    </tr>\n",
       "    <tr>\n",
       "      <th>4</th>\n",
       "      <td>0.204</td>\n",
       "      <td>0.220</td>\n",
       "      <td>6.190</td>\n",
       "      <td>2.959</td>\n",
       "      <td>0.506</td>\n",
       "      <td>3.541</td>\n",
       "      <td>41.18</td>\n",
       "      <td>17.0</td>\n",
       "      <td>-4.0</td>\n",
       "      <td>-2.0</td>\n",
       "      <td>...</td>\n",
       "      <td>0.0</td>\n",
       "      <td>763.117018</td>\n",
       "      <td>-1.0</td>\n",
       "      <td>-1.0</td>\n",
       "      <td>-1.0</td>\n",
       "      <td>-1.0</td>\n",
       "      <td>-1.0</td>\n",
       "      <td>-1.0</td>\n",
       "      <td>0.0</td>\n",
       "      <td>0.0</td>\n",
       "    </tr>\n",
       "  </tbody>\n",
       "</table>\n",
       "<p>5 rows × 31 columns</p>\n",
       "</div>"
      ],
      "text/plain": [
       "   phi1_right  PHI_right  phi2_right  phi1_left  PHI_left  phi2_left  \\\n",
       "0       0.180      0.250       6.179      5.039     0.678      1.946   \n",
       "1       0.180      0.250       6.179      6.066     0.356      0.319   \n",
       "2       3.511      0.204       2.663      6.066     0.356      0.319   \n",
       "3       3.315      0.286       2.941      3.511     0.204      2.663   \n",
       "4       0.204      0.220       6.190      2.959     0.506      3.541   \n",
       "\n",
       "   misorientation  mis_x_right  mis_y_right  mis_z_right  ...  Sigma  \\\n",
       "0           55.90          5.0         11.0        -12.0  ...    0.0   \n",
       "1            9.33        -14.0         20.0         -7.0  ...    0.0   \n",
       "2           32.61        -26.0          0.0         -9.0  ...    0.0   \n",
       "3            7.38        -21.0          4.0         20.0  ...    0.0   \n",
       "4           41.18         17.0         -4.0         -2.0  ...    0.0   \n",
       "\n",
       "   Distance_Center  Void_id  x_junction  y_junction  Rebuild_len  Junction  \\\n",
       "0       811.319262     -1.0        -1.0        -1.0         -1.0      -1.0   \n",
       "1       806.443713     -1.0        -1.0        -1.0         -1.0      -1.0   \n",
       "2       794.650128     -1.0        -1.0        -1.0         -1.0      -1.0   \n",
       "3       778.051543     -1.0        -1.0        -1.0         -1.0      -1.0   \n",
       "4       763.117018     -1.0        -1.0        -1.0         -1.0      -1.0   \n",
       "\n",
       "   Prox_par  Void  Void_Parameter  \n",
       "0      -1.0   0.0             0.0  \n",
       "1      -1.0   0.0             0.0  \n",
       "2      -1.0   0.0             0.0  \n",
       "3      -1.0   0.0             0.0  \n",
       "4      -1.0   0.0             0.0  \n",
       "\n",
       "[5 rows x 31 columns]"
      ]
     },
     "execution_count": 8,
     "metadata": {},
     "output_type": "execute_result"
    }
   ],
   "source": [
    "columns_void = ['phi1_right', 'PHI_right', 'phi2_right', 'phi1_left', 'PHI_left', 'phi2_left',\n",
    "                'misorientation', 'mis_x_right', 'mis_y_right', 'mis_z_right',\n",
    "                'mis_x_left', 'mis_y_left', 'mis_z_left',\n",
    "                'Length', 'Trace', 'x_start', 'y_start', 'x_end', 'y_end', 'gbID_right', 'gbID_left', 'Sigma',\n",
    "                'Distance_Center',\n",
    "                'Void_id', 'x_junction', 'y_junction', 'Rebuild_len', 'Junction','Prox_par', 'Void', 'Void_Parameter']\n",
    "\n",
    "# Collect all txt data\n",
    "data=[]\n",
    "for name in inputs:\n",
    "    void_dataset_temp = gbvoid.gbvoid_dataset(name)\n",
    "    data.append(void_dataset_temp)\n",
    "    \n",
    "void_dataset=pd.concat(data, ignore_index='True')\n",
    "void_dataset.columns=columns_void\n",
    "\n",
    "void_dataset = void_dataset.apply(pd.to_numeric) # convert all columns of DataFrame\n",
    "#pd.to_numeric(void_dataset['Length','misorientation']) \n",
    "print(void_dataset.shape)\n",
    "void_dataset.head()"
   ]
  },
  {
   "cell_type": "code",
   "execution_count": 9,
   "metadata": {},
   "outputs": [
    {
     "name": "stdout",
     "output_type": "stream",
     "text": [
      "(3934, 31)\n",
      "(3908, 31)\n"
     ]
    }
   ],
   "source": [
    "# Drop negative Void Parameter\n",
    "print(void_dataset.shape)\n",
    "void_dataset=void_dataset.loc[void_dataset['Void_Parameter'] != -1.0]\n",
    "print(void_dataset.shape)"
   ]
  },
  {
   "cell_type": "code",
   "execution_count": 10,
   "metadata": {},
   "outputs": [],
   "source": [
    "drop_col=['phi1_right', 'PHI_right', 'phi2_right', 'phi1_left', 'PHI_left',\n",
    "       'phi2_left', 'mis_x_right', 'mis_y_right',\n",
    "       'mis_z_right', 'mis_x_left', 'mis_y_left', 'mis_z_left',\n",
    "       'x_start', 'y_start', 'x_end', 'y_end', 'gbID_right',\n",
    "       'gbID_left','x_junction','y_junction']\n",
    "void_dataset=void_dataset.drop(drop_col, axis=1)"
   ]
  },
  {
   "cell_type": "code",
   "execution_count": 11,
   "metadata": {},
   "outputs": [
    {
     "data": {
      "text/plain": [
       "misorientation     0\n",
       "Length             0\n",
       "Trace              0\n",
       "Sigma              0\n",
       "Distance_Center    0\n",
       "Void_id            0\n",
       "Rebuild_len        0\n",
       "Junction           0\n",
       "Prox_par           0\n",
       "Void               0\n",
       "Void_Parameter     0\n",
       "dtype: int64"
      ]
     },
     "execution_count": 11,
     "metadata": {},
     "output_type": "execute_result"
    }
   ],
   "source": [
    "void_dataset.isnull().sum()\n",
    "#void_dataset['Junction'] = void_dataset['Junction'].fillna(0)"
   ]
  },
  {
   "cell_type": "code",
   "execution_count": 105,
   "metadata": {},
   "outputs": [
    {
     "name": "stdout",
     "output_type": "stream",
     "text": [
      "(65, 10)\n",
      "(4954, 10)\n",
      "Selected gb percentage:\n",
      "1.2950787009364415\n"
     ]
    }
   ],
   "source": [
    "# Divide into two dataframe, void gb and no void gb\n",
    "selected_df=void_dataset.loc[void_dataset['Void_Parameter'] != 0.0]\n",
    "novoid_df=void_dataset.loc[void_dataset['Void_Parameter'] == 0.0]\n",
    "print(selected_df.shape)\n",
    "print(novoid_df.shape)\n",
    "print('Selected gb percentage:')\n",
    "print((selected_df.shape[0]/void_dataset.shape[0])*100)\n",
    "\n",
    "#void_dataset[void_dataset[\"Void\"] != 1]"
   ]
  },
  {
   "cell_type": "code",
   "execution_count": 57,
   "metadata": {},
   "outputs": [],
   "source": [
    "void_dataset.isnull().sum()\n",
    "void_dataset['Junction'] = void_dataset['Junction'].fillna(0)"
   ]
  },
  {
   "cell_type": "code",
   "execution_count": 69,
   "metadata": {},
   "outputs": [
    {
     "data": {
      "text/plain": [
       "misorientation     0\n",
       "Length             0\n",
       "Trace              0\n",
       "Sigma              0\n",
       "Distance_Center    0\n",
       "Void_id            0\n",
       "Pred_lenght        0\n",
       "Junction           3\n",
       "Void               0\n",
       "Void_Parameter     0\n",
       "dtype: int64"
      ]
     },
     "execution_count": 69,
     "metadata": {},
     "output_type": "execute_result"
    }
   ],
   "source": [
    "selected_df.isnull().sum()"
   ]
  },
  {
   "cell_type": "code",
   "execution_count": 106,
   "metadata": {},
   "outputs": [
    {
     "data": {
      "text/plain": [
       "misorientation     float64\n",
       "Length             float64\n",
       "Trace              float64\n",
       "Sigma              float64\n",
       "Distance_Center    float64\n",
       "Void_id            float64\n",
       "Pred_lenght        float64\n",
       "Junction           float64\n",
       "Void                 int64\n",
       "Void_Parameter     float64\n",
       "dtype: object"
      ]
     },
     "execution_count": 106,
     "metadata": {},
     "output_type": "execute_result"
    }
   ],
   "source": [
    "selected_df.dtypes"
   ]
  },
  {
   "cell_type": "code",
   "execution_count": 92,
   "metadata": {},
   "outputs": [
    {
     "data": {
      "text/plain": [
       "39.248730822873085"
      ]
     },
     "execution_count": 92,
     "metadata": {},
     "output_type": "execute_result"
    }
   ],
   "source": [
    "void_dataset['misorientation'] = void_dataset['misorientation'].astype(float)\n",
    "void_dataset['misorientation'].mean()"
   ]
  },
  {
   "cell_type": "code",
   "execution_count": 107,
   "metadata": {},
   "outputs": [
    {
     "data": {
      "text/html": [
       "<div>\n",
       "<style scoped>\n",
       "    .dataframe tbody tr th:only-of-type {\n",
       "        vertical-align: middle;\n",
       "    }\n",
       "\n",
       "    .dataframe tbody tr th {\n",
       "        vertical-align: top;\n",
       "    }\n",
       "\n",
       "    .dataframe thead th {\n",
       "        text-align: right;\n",
       "    }\n",
       "</style>\n",
       "<table border=\"1\" class=\"dataframe\">\n",
       "  <thead>\n",
       "    <tr style=\"text-align: right;\">\n",
       "      <th></th>\n",
       "      <th>misorientation</th>\n",
       "      <th>Length</th>\n",
       "      <th>Trace</th>\n",
       "      <th>Sigma</th>\n",
       "      <th>Distance_Center</th>\n",
       "      <th>Pred_lenght</th>\n",
       "      <th>Junction</th>\n",
       "      <th>Void</th>\n",
       "      <th>Void_Parameter</th>\n",
       "    </tr>\n",
       "    <tr>\n",
       "      <th>Void_id</th>\n",
       "      <th></th>\n",
       "      <th></th>\n",
       "      <th></th>\n",
       "      <th></th>\n",
       "      <th></th>\n",
       "      <th></th>\n",
       "      <th></th>\n",
       "      <th></th>\n",
       "      <th></th>\n",
       "    </tr>\n",
       "  </thead>\n",
       "  <tbody>\n",
       "    <tr>\n",
       "      <th>0.0</th>\n",
       "      <td>25.500</td>\n",
       "      <td>11.719000</td>\n",
       "      <td>140.200000</td>\n",
       "      <td>5.898300</td>\n",
       "      <td>13.898127</td>\n",
       "      <td>-1.000000</td>\n",
       "      <td>0.000000</td>\n",
       "      <td>1</td>\n",
       "      <td>1.000000</td>\n",
       "    </tr>\n",
       "    <tr>\n",
       "      <th>1.0</th>\n",
       "      <td>25.500</td>\n",
       "      <td>24.012000</td>\n",
       "      <td>14.700000</td>\n",
       "      <td>5.563350</td>\n",
       "      <td>2.068085</td>\n",
       "      <td>-1.000000</td>\n",
       "      <td>0.000000</td>\n",
       "      <td>1</td>\n",
       "      <td>1.000000</td>\n",
       "    </tr>\n",
       "    <tr>\n",
       "      <th>2.0</th>\n",
       "      <td>44.690</td>\n",
       "      <td>8.301333</td>\n",
       "      <td>112.966667</td>\n",
       "      <td>5.740267</td>\n",
       "      <td>12.701284</td>\n",
       "      <td>4.128865</td>\n",
       "      <td>1.333333</td>\n",
       "      <td>1</td>\n",
       "      <td>0.966667</td>\n",
       "    </tr>\n",
       "    <tr>\n",
       "      <th>3.0</th>\n",
       "      <td>32.820</td>\n",
       "      <td>29.462000</td>\n",
       "      <td>169.800000</td>\n",
       "      <td>5.614370</td>\n",
       "      <td>3.726280</td>\n",
       "      <td>-1.000000</td>\n",
       "      <td>0.000000</td>\n",
       "      <td>1</td>\n",
       "      <td>1.000000</td>\n",
       "    </tr>\n",
       "    <tr>\n",
       "      <th>4.0</th>\n",
       "      <td>26.655</td>\n",
       "      <td>12.081000</td>\n",
       "      <td>110.650000</td>\n",
       "      <td>5.022140</td>\n",
       "      <td>7.946976</td>\n",
       "      <td>-1.000000</td>\n",
       "      <td>0.000000</td>\n",
       "      <td>1</td>\n",
       "      <td>1.000000</td>\n",
       "    </tr>\n",
       "  </tbody>\n",
       "</table>\n",
       "</div>"
      ],
      "text/plain": [
       "         misorientation     Length       Trace     Sigma  Distance_Center  \\\n",
       "Void_id                                                                     \n",
       "0.0              25.500  11.719000  140.200000  5.898300        13.898127   \n",
       "1.0              25.500  24.012000   14.700000  5.563350         2.068085   \n",
       "2.0              44.690   8.301333  112.966667  5.740267        12.701284   \n",
       "3.0              32.820  29.462000  169.800000  5.614370         3.726280   \n",
       "4.0              26.655  12.081000  110.650000  5.022140         7.946976   \n",
       "\n",
       "         Pred_lenght  Junction  Void  Void_Parameter  \n",
       "Void_id                                               \n",
       "0.0        -1.000000  0.000000     1        1.000000  \n",
       "1.0        -1.000000  0.000000     1        1.000000  \n",
       "2.0         4.128865  1.333333     1        0.966667  \n",
       "3.0        -1.000000  0.000000     1        1.000000  \n",
       "4.0        -1.000000  0.000000     1        1.000000  "
      ]
     },
     "execution_count": 107,
     "metadata": {},
     "output_type": "execute_result"
    }
   ],
   "source": [
    "grouped_df = selected_df.groupby(\"Void_id\").mean()\n",
    "\n",
    "grouped_df.head()"
   ]
  },
  {
   "cell_type": "code",
   "execution_count": 75,
   "metadata": {},
   "outputs": [
    {
     "data": {
      "text/html": [
       "<div>\n",
       "<style scoped>\n",
       "    .dataframe tbody tr th:only-of-type {\n",
       "        vertical-align: middle;\n",
       "    }\n",
       "\n",
       "    .dataframe tbody tr th {\n",
       "        vertical-align: top;\n",
       "    }\n",
       "\n",
       "    .dataframe thead th {\n",
       "        text-align: right;\n",
       "    }\n",
       "</style>\n",
       "<table border=\"1\" class=\"dataframe\">\n",
       "  <thead>\n",
       "    <tr style=\"text-align: right;\">\n",
       "      <th></th>\n",
       "      <th>Junction</th>\n",
       "      <th>Void_Parameter</th>\n",
       "    </tr>\n",
       "    <tr>\n",
       "      <th>Void_id</th>\n",
       "      <th></th>\n",
       "      <th></th>\n",
       "    </tr>\n",
       "  </thead>\n",
       "  <tbody>\n",
       "    <tr>\n",
       "      <th>0.0</th>\n",
       "      <td>0.000000</td>\n",
       "      <td>1.000000</td>\n",
       "    </tr>\n",
       "    <tr>\n",
       "      <th>1.0</th>\n",
       "      <td>0.000000</td>\n",
       "      <td>1.000000</td>\n",
       "    </tr>\n",
       "    <tr>\n",
       "      <th>2.0</th>\n",
       "      <td>1.333333</td>\n",
       "      <td>0.966667</td>\n",
       "    </tr>\n",
       "    <tr>\n",
       "      <th>3.0</th>\n",
       "      <td>0.000000</td>\n",
       "      <td>1.000000</td>\n",
       "    </tr>\n",
       "    <tr>\n",
       "      <th>4.0</th>\n",
       "      <td>0.000000</td>\n",
       "      <td>1.000000</td>\n",
       "    </tr>\n",
       "    <tr>\n",
       "      <th>5.0</th>\n",
       "      <td>0.000000</td>\n",
       "      <td>1.000000</td>\n",
       "    </tr>\n",
       "    <tr>\n",
       "      <th>7.0</th>\n",
       "      <td>1.333333</td>\n",
       "      <td>1.000000</td>\n",
       "    </tr>\n",
       "    <tr>\n",
       "      <th>8.0</th>\n",
       "      <td>2.000000</td>\n",
       "      <td>1.000000</td>\n",
       "    </tr>\n",
       "    <tr>\n",
       "      <th>13.0</th>\n",
       "      <td>0.000000</td>\n",
       "      <td>1.000000</td>\n",
       "    </tr>\n",
       "    <tr>\n",
       "      <th>14.0</th>\n",
       "      <td>1.076923</td>\n",
       "      <td>0.484615</td>\n",
       "    </tr>\n",
       "    <tr>\n",
       "      <th>15.0</th>\n",
       "      <td>0.625000</td>\n",
       "      <td>0.725000</td>\n",
       "    </tr>\n",
       "    <tr>\n",
       "      <th>16.0</th>\n",
       "      <td>0.500000</td>\n",
       "      <td>1.000000</td>\n",
       "    </tr>\n",
       "    <tr>\n",
       "      <th>17.0</th>\n",
       "      <td>2.000000</td>\n",
       "      <td>1.000000</td>\n",
       "    </tr>\n",
       "    <tr>\n",
       "      <th>18.0</th>\n",
       "      <td>2.000000</td>\n",
       "      <td>0.880000</td>\n",
       "    </tr>\n",
       "    <tr>\n",
       "      <th>19.0</th>\n",
       "      <td>2.000000</td>\n",
       "      <td>1.000000</td>\n",
       "    </tr>\n",
       "    <tr>\n",
       "      <th>20.0</th>\n",
       "      <td>0.000000</td>\n",
       "      <td>1.000000</td>\n",
       "    </tr>\n",
       "    <tr>\n",
       "      <th>21.0</th>\n",
       "      <td>1.000000</td>\n",
       "      <td>0.875000</td>\n",
       "    </tr>\n",
       "    <tr>\n",
       "      <th>22.0</th>\n",
       "      <td>1.600000</td>\n",
       "      <td>0.880000</td>\n",
       "    </tr>\n",
       "    <tr>\n",
       "      <th>23.0</th>\n",
       "      <td>0.000000</td>\n",
       "      <td>0.933333</td>\n",
       "    </tr>\n",
       "  </tbody>\n",
       "</table>\n",
       "</div>"
      ],
      "text/plain": [
       "         Junction  Void_Parameter\n",
       "Void_id                          \n",
       "0.0      0.000000        1.000000\n",
       "1.0      0.000000        1.000000\n",
       "2.0      1.333333        0.966667\n",
       "3.0      0.000000        1.000000\n",
       "4.0      0.000000        1.000000\n",
       "5.0      0.000000        1.000000\n",
       "7.0      1.333333        1.000000\n",
       "8.0      2.000000        1.000000\n",
       "13.0     0.000000        1.000000\n",
       "14.0     1.076923        0.484615\n",
       "15.0     0.625000        0.725000\n",
       "16.0     0.500000        1.000000\n",
       "17.0     2.000000        1.000000\n",
       "18.0     2.000000        0.880000\n",
       "19.0     2.000000        1.000000\n",
       "20.0     0.000000        1.000000\n",
       "21.0     1.000000        0.875000\n",
       "22.0     1.600000        0.880000\n",
       "23.0     0.000000        0.933333"
      ]
     },
     "execution_count": 75,
     "metadata": {},
     "output_type": "execute_result"
    }
   ],
   "source": [
    "df_voids=selected_df.groupby('Void_id').mean()\n",
    "df_voids"
   ]
  },
  {
   "cell_type": "code",
   "execution_count": 22,
   "metadata": {},
   "outputs": [
    {
     "name": "stdout",
     "output_type": "stream",
     "text": [
      "[40.4275, 55.19, 53.015, 31.253000000000004, 18.75, 34.45, 36.279999999999994]\n"
     ]
    }
   ],
   "source": [
    "miso=df_voids['misorientation'].tolist()\n",
    "print(miso)"
   ]
  },
  {
   "cell_type": "code",
   "execution_count": 14,
   "metadata": {},
   "outputs": [
    {
     "data": {
      "text/html": [
       "<div>\n",
       "<style scoped>\n",
       "    .dataframe tbody tr th:only-of-type {\n",
       "        vertical-align: middle;\n",
       "    }\n",
       "\n",
       "    .dataframe tbody tr th {\n",
       "        vertical-align: top;\n",
       "    }\n",
       "\n",
       "    .dataframe thead th {\n",
       "        text-align: right;\n",
       "    }\n",
       "</style>\n",
       "<table border=\"1\" class=\"dataframe\">\n",
       "  <thead>\n",
       "    <tr style=\"text-align: right;\">\n",
       "      <th></th>\n",
       "      <th>misorientation</th>\n",
       "      <th>Length</th>\n",
       "      <th>Trace</th>\n",
       "      <th>Sigma</th>\n",
       "      <th>Distance_Center</th>\n",
       "      <th>Void_id</th>\n",
       "      <th>Pred_lenght</th>\n",
       "      <th>Junction</th>\n",
       "      <th>Void</th>\n",
       "      <th>Void_Parameter</th>\n",
       "    </tr>\n",
       "  </thead>\n",
       "  <tbody>\n",
       "    <tr>\n",
       "      <th>2647</th>\n",
       "      <td>40.25</td>\n",
       "      <td>12.490</td>\n",
       "      <td>76.1</td>\n",
       "      <td>5.87344</td>\n",
       "      <td>8.252113</td>\n",
       "      <td>0.0</td>\n",
       "      <td>0.000000</td>\n",
       "      <td>3.0</td>\n",
       "      <td>1.0</td>\n",
       "      <td>1.0</td>\n",
       "    </tr>\n",
       "    <tr>\n",
       "      <th>2017</th>\n",
       "      <td>55.19</td>\n",
       "      <td>28.095</td>\n",
       "      <td>175.3</td>\n",
       "      <td>5.16563</td>\n",
       "      <td>11.443416</td>\n",
       "      <td>1.0</td>\n",
       "      <td>-1.000000</td>\n",
       "      <td>0.0</td>\n",
       "      <td>1.0</td>\n",
       "      <td>1.0</td>\n",
       "    </tr>\n",
       "    <tr>\n",
       "      <th>305</th>\n",
       "      <td>54.94</td>\n",
       "      <td>18.583</td>\n",
       "      <td>23.8</td>\n",
       "      <td>5.88660</td>\n",
       "      <td>14.215933</td>\n",
       "      <td>2.0</td>\n",
       "      <td>-1.000000</td>\n",
       "      <td>0.0</td>\n",
       "      <td>1.0</td>\n",
       "      <td>1.0</td>\n",
       "    </tr>\n",
       "    <tr>\n",
       "      <th>3345</th>\n",
       "      <td>8.56</td>\n",
       "      <td>9.018</td>\n",
       "      <td>116.3</td>\n",
       "      <td>5.89797</td>\n",
       "      <td>15.978424</td>\n",
       "      <td>4.0</td>\n",
       "      <td>0.000000</td>\n",
       "      <td>2.0</td>\n",
       "      <td>1.0</td>\n",
       "      <td>1.0</td>\n",
       "    </tr>\n",
       "    <tr>\n",
       "      <th>2473</th>\n",
       "      <td>18.75</td>\n",
       "      <td>27.495</td>\n",
       "      <td>169.1</td>\n",
       "      <td>5.10259</td>\n",
       "      <td>6.551258</td>\n",
       "      <td>5.0</td>\n",
       "      <td>-1.000000</td>\n",
       "      <td>0.0</td>\n",
       "      <td>1.0</td>\n",
       "      <td>1.0</td>\n",
       "    </tr>\n",
       "    <tr>\n",
       "      <th>3696</th>\n",
       "      <td>48.36</td>\n",
       "      <td>17.776</td>\n",
       "      <td>43.0</td>\n",
       "      <td>5.90310</td>\n",
       "      <td>5.112305</td>\n",
       "      <td>7.0</td>\n",
       "      <td>0.822715</td>\n",
       "      <td>2.0</td>\n",
       "      <td>1.0</td>\n",
       "      <td>1.0</td>\n",
       "    </tr>\n",
       "    <tr>\n",
       "      <th>2874</th>\n",
       "      <td>25.74</td>\n",
       "      <td>43.189</td>\n",
       "      <td>54.6</td>\n",
       "      <td>4.60860</td>\n",
       "      <td>18.424180</td>\n",
       "      <td>8.0</td>\n",
       "      <td>-1.000000</td>\n",
       "      <td>0.0</td>\n",
       "      <td>1.0</td>\n",
       "      <td>1.0</td>\n",
       "    </tr>\n",
       "  </tbody>\n",
       "</table>\n",
       "</div>"
      ],
      "text/plain": [
       "      misorientation  Length  Trace    Sigma  Distance_Center  Void_id  \\\n",
       "2647           40.25  12.490   76.1  5.87344         8.252113      0.0   \n",
       "2017           55.19  28.095  175.3  5.16563        11.443416      1.0   \n",
       "305            54.94  18.583   23.8  5.88660        14.215933      2.0   \n",
       "3345            8.56   9.018  116.3  5.89797        15.978424      4.0   \n",
       "2473           18.75  27.495  169.1  5.10259         6.551258      5.0   \n",
       "3696           48.36  17.776   43.0  5.90310         5.112305      7.0   \n",
       "2874           25.74  43.189   54.6  4.60860        18.424180      8.0   \n",
       "\n",
       "      Pred_lenght  Junction  Void  Void_Parameter  \n",
       "2647     0.000000       3.0   1.0             1.0  \n",
       "2017    -1.000000       0.0   1.0             1.0  \n",
       "305     -1.000000       0.0   1.0             1.0  \n",
       "3345     0.000000       2.0   1.0             1.0  \n",
       "2473    -1.000000       0.0   1.0             1.0  \n",
       "3696     0.822715       2.0   1.0             1.0  \n",
       "2874    -1.000000       0.0   1.0             1.0  "
      ]
     },
     "execution_count": 14,
     "metadata": {},
     "output_type": "execute_result"
    }
   ],
   "source": [
    "#df_close_void=selected_df.groupby(['Void_id']).min(selected_df['Distance_Center'])\n",
    "\n",
    "df_close_void=selected_df.loc[selected_df.groupby('Void_id')['Distance_Center'].idxmin()]\n",
    "\n",
    "df_close_void\n"
   ]
  },
  {
   "cell_type": "code",
   "execution_count": 116,
   "metadata": {},
   "outputs": [
    {
     "name": "stdout",
     "output_type": "stream",
     "text": [
      "-- 1_001 --\n",
      "(3934, 30)\n",
      "(3849, 30)\n",
      "(3849, 10)\n",
      "-- 1_002 --\n",
      "(5600, 30)\n",
      "(5452, 30)\n",
      "(5452, 10)\n",
      "-- 1_003 --\n",
      "(5363, 30)\n",
      "(5074, 30)\n",
      "(5074, 10)\n",
      "-- 1_004 --\n",
      "(5167, 30)\n",
      "(5019, 30)\n",
      "(5019, 10)\n",
      "misorientation     0\n",
      "Length             0\n",
      "Trace              0\n",
      "Sigma              0\n",
      "Distance_Center    0\n",
      "Void_id            0\n",
      "Pred_lenght        0\n",
      "Junction           3\n",
      "Void               0\n",
      "Void_Parameter     0\n",
      "dtype: int64\n",
      "-- 1_005 --\n",
      "(7345, 30)\n",
      "(7165, 30)\n",
      "(7165, 10)\n",
      "misorientation     0\n",
      "Length             0\n",
      "Trace              0\n",
      "Sigma              0\n",
      "Distance_Center    0\n",
      "Void_id            0\n",
      "Pred_lenght        0\n",
      "Junction           2\n",
      "Void               0\n",
      "Void_Parameter     0\n",
      "dtype: int64\n",
      "-- 1_006 --\n",
      "(6754, 30)\n",
      "(6555, 30)\n",
      "(6555, 10)\n",
      "misorientation     0\n",
      "Length             0\n",
      "Trace              0\n",
      "Sigma              0\n",
      "Distance_Center    0\n",
      "Void_id            0\n",
      "Pred_lenght        0\n",
      "Junction           5\n",
      "Void               0\n",
      "Void_Parameter     0\n",
      "dtype: int64\n",
      "-- 1_007 --\n",
      "(6628, 30)\n",
      "(6411, 30)\n",
      "(6411, 10)\n",
      "-- 1_008 --\n",
      "(5306, 30)\n",
      "(5074, 30)\n",
      "(5074, 10)\n",
      "-- 1_009 --\n",
      "(5972, 30)\n",
      "(5811, 30)\n",
      "(5811, 10)\n",
      "-- 1_010 --\n",
      "(2792, 30)\n",
      "(2744, 30)\n",
      "(2744, 10)\n",
      "-- 2_001 --\n",
      "(3215, 30)\n",
      "(3092, 30)\n",
      "(3092, 10)\n",
      "-- 2_002 --\n",
      "(3052, 30)\n",
      "(2999, 30)\n",
      "(2999, 10)\n",
      "-- 2_003 --\n",
      "(3561, 30)\n",
      "(3498, 30)\n",
      "(3498, 10)\n",
      "-- 2_004 --\n",
      "(2090, 30)\n",
      "(2061, 30)\n",
      "(2061, 10)\n",
      "-- 2_005 --\n",
      "(2006, 30)\n",
      "(1848, 30)\n",
      "(1848, 10)\n",
      "-- 2_006 --\n",
      "(2048, 30)\n",
      "(2023, 30)\n",
      "(2023, 10)\n",
      "-- 2_007 --\n",
      "(3811, 30)\n",
      "(3656, 30)\n",
      "(3656, 10)\n",
      "-- 2_008 --\n",
      "(4051, 30)\n",
      "(3957, 30)\n",
      "(3957, 10)\n",
      "-- 2_009 --\n",
      "(2710, 30)\n",
      "(2607, 30)\n",
      "(2607, 10)\n",
      "misorientation     0\n",
      "Length             0\n",
      "Trace              0\n",
      "Sigma              0\n",
      "Distance_Center    0\n",
      "Void_id            0\n",
      "Pred_lenght        0\n",
      "Junction           2\n",
      "Void               0\n",
      "Void_Parameter     0\n",
      "dtype: int64\n",
      "-- 3_001 --\n",
      "(2530, 30)\n",
      "(2461, 30)\n",
      "(2461, 10)\n",
      "-- 3_002 --\n",
      "(2779, 30)\n",
      "(2703, 30)\n",
      "(2703, 10)\n",
      "-- 3_003 --\n",
      "(3567, 30)\n",
      "(3434, 30)\n",
      "(3434, 10)\n",
      "-- 3_004 --\n",
      "(2877, 30)\n",
      "(2789, 30)\n",
      "(2789, 10)\n",
      "-- 3_005 --\n",
      "(2067, 30)\n",
      "(2056, 30)\n",
      "(2056, 10)\n",
      "-- 3_006 --\n",
      "(7087, 30)\n",
      "(6795, 30)\n",
      "(6795, 10)\n",
      "-- 3_007 --\n",
      "(2860, 30)\n",
      "(2844, 30)\n",
      "(2844, 10)\n",
      "-- 3_008 --\n",
      "(3227, 30)\n",
      "(3184, 30)\n",
      "(3184, 10)\n",
      "misorientation     0\n",
      "Length             0\n",
      "Trace              0\n",
      "Sigma              0\n",
      "Distance_Center    0\n",
      "Void_id            0\n",
      "Pred_lenght        0\n",
      "Junction           2\n",
      "Void               0\n",
      "Void_Parameter     0\n",
      "dtype: int64\n",
      "-- 3_009 --\n",
      "(3106, 30)\n",
      "(3074, 30)\n",
      "(3074, 10)\n",
      "-- 3_010 --\n",
      "(2438, 30)\n",
      "(2421, 30)\n",
      "(2421, 10)\n",
      "-- 4_001 --\n",
      "(4312, 30)\n",
      "(4186, 30)\n",
      "(4186, 10)\n",
      "-- 4_002 --\n",
      "(3515, 30)\n",
      "(3435, 30)\n",
      "(3435, 10)\n",
      "-- 4_003 --\n",
      "(2003, 30)\n",
      "(1957, 30)\n",
      "(1957, 10)\n",
      "-- 4_004 --\n",
      "(5030, 30)\n",
      "(4986, 30)\n",
      "(4986, 10)\n",
      "-- 4_005 --\n",
      "(2272, 30)\n",
      "(2226, 30)\n",
      "(2226, 10)\n",
      "-- 4_007 --\n",
      "(3039, 30)\n",
      "(2937, 30)\n",
      "(2937, 10)\n",
      "misorientation     0\n",
      "Length             0\n",
      "Trace              0\n",
      "Sigma              0\n",
      "Distance_Center    0\n",
      "Void_id            0\n",
      "Pred_lenght        0\n",
      "Junction           3\n",
      "Void               0\n",
      "Void_Parameter     0\n",
      "dtype: int64\n",
      "-- 4_008 --\n",
      "(3203, 30)\n",
      "(3153, 30)\n",
      "(3153, 10)\n",
      "-- 4_009 --\n",
      "(1739, 30)\n",
      "(1689, 30)\n",
      "(1689, 10)\n",
      "-- 5_001 --\n",
      "(3934, 30)\n",
      "(3899, 30)\n",
      "(3899, 10)\n",
      "-- 5_002 --\n",
      "(4261, 30)\n",
      "(4242, 30)\n",
      "(4242, 10)\n",
      "-- 5_003 --\n",
      "(3232, 30)\n",
      "(3157, 30)\n",
      "(3157, 10)\n",
      "misorientation     0\n",
      "Length             0\n",
      "Trace              0\n",
      "Sigma              0\n",
      "Distance_Center    0\n",
      "Void_id            0\n",
      "Pred_lenght        0\n",
      "Junction           4\n",
      "Void               0\n",
      "Void_Parameter     0\n",
      "dtype: int64\n",
      "-- 5_004 --\n",
      "(3656, 30)\n",
      "(3628, 30)\n",
      "(3628, 10)\n",
      "-- 5_005 --\n",
      "(1418, 30)\n",
      "(1412, 30)\n",
      "(1412, 10)\n",
      "-- 5_006 --\n",
      "(3515, 30)\n",
      "(3506, 30)\n",
      "(3506, 10)\n",
      "-- 5_007 --\n",
      "(3655, 30)\n",
      "(3640, 30)\n",
      "(3640, 10)\n",
      "-- 5_008 --\n",
      "(4266, 30)\n",
      "(4246, 30)\n",
      "(4246, 10)\n",
      "-- 5_009 --\n",
      "(2801, 30)\n",
      "(2777, 30)\n",
      "(2777, 10)\n",
      "-- 5_010 --\n",
      "(1922, 30)\n",
      "(1897, 30)\n",
      "(1897, 10)\n",
      "misorientation     0\n",
      "Length             0\n",
      "Trace              0\n",
      "Sigma              0\n",
      "Distance_Center    0\n",
      "Void_id            0\n",
      "Pred_lenght        0\n",
      "Junction           3\n",
      "Void               0\n",
      "Void_Parameter     0\n",
      "dtype: int64\n",
      "-- 5_011 --\n",
      "(1822, 30)\n",
      "(1810, 30)\n",
      "(1810, 10)\n",
      "-- 6_001 --\n",
      "(1905, 30)\n",
      "(1876, 30)\n",
      "(1876, 10)\n",
      "misorientation     0\n",
      "Length             0\n",
      "Trace              0\n",
      "Sigma              0\n",
      "Distance_Center    0\n",
      "Void_id            0\n",
      "Pred_lenght        0\n",
      "Junction           3\n",
      "Void               0\n",
      "Void_Parameter     0\n",
      "dtype: int64\n",
      "-- 6_002 --\n",
      "(2661, 30)\n",
      "(2599, 30)\n",
      "(2599, 10)\n",
      "-- 6_003 --\n",
      "(1314, 30)\n",
      "(1287, 30)\n",
      "(1287, 10)\n",
      "-- 6_004 --\n",
      "(1980, 30)\n",
      "(1975, 30)\n",
      "(1975, 10)\n",
      "-- 6_005 --\n",
      "(2271, 30)\n",
      "(2232, 30)\n",
      "(2232, 10)\n",
      "-- 6_006 --\n",
      "(2537, 30)\n",
      "(2470, 30)\n",
      "(2470, 10)\n",
      "-- 6_007 --\n",
      "(3516, 30)\n",
      "(3392, 30)\n",
      "(3392, 10)\n",
      "-- 6_008 --\n",
      "(4006, 30)\n",
      "(3915, 30)\n",
      "(3915, 10)\n",
      "-- 6_009 --\n",
      "(3569, 30)\n",
      "(3515, 30)\n",
      "(3515, 10)\n",
      "-- 6_010 --\n",
      "(520, 30)\n",
      "(519, 30)\n",
      "(519, 10)\n"
     ]
    }
   ],
   "source": [
    "inputs = ['1_001', '1_002', '1_003', '1_004', '1_005', '1_006', '1_007', '1_008', '1_009', '1_010',\n",
    "          '2_001', '2_002', '2_003', '2_004', '2_005', '2_006', '2_007', '2_008', '2_009',\n",
    "          '3_001', '3_002', '3_003', '3_004', '3_005', '3_006', '3_007', '3_008', '3_009', '3_010',\n",
    "          '4_001', '4_002', '4_003', '4_004', '4_005', '4_007', '4_008', '4_009',\n",
    "          '5_001', '5_002', '5_003', '5_004', '5_005', '5_006', '5_007', '5_008', '5_009', '5_010', '5_011',\n",
    "          '6_001', '6_002', '6_003', '6_004', '6_005', '6_006', '6_007', '6_008', '6_009', '6_010']\n",
    "\n",
    "columns_void=['phi1_right','PHI_right','phi2_right','phi1_left','PHI_left','phi2_left',\n",
    "         'misorientation','mis_x_right','mis_y_right', 'mis_z_right',\n",
    "         'mis_x_left','mis_y_left','mis_z_left',\n",
    "         'Length','Trace', 'x_start', 'y_start', 'x_end','y_end','gbID_right', 'gbID_left', 'Sigma','Distance_Center',\n",
    "              'Void_id','x_junction','y_junction','Pred_lenght','Junction','Void','Void_Parameter']\n",
    "\n",
    "drop_col=['phi1_right', 'PHI_right', 'phi2_right', 'phi1_left', 'PHI_left',\n",
    "       'phi2_left', 'mis_x_right', 'mis_y_right',\n",
    "       'mis_z_right', 'mis_x_left', 'mis_y_left', 'mis_z_left',\n",
    "       'x_start', 'y_start', 'x_end', 'y_end', 'gbID_right',\n",
    "       'gbID_left','x_junction','y_junction']\n",
    "\n",
    "# Collect all txt data\n",
    "miso_mean=[]\n",
    "miso_close=[]\n",
    "length_mean=[]\n",
    "length_close=[]\n",
    "trace_mean=[]\n",
    "trace_close=[]\n",
    "sigma_mean=[]\n",
    "sigma_close=[]\n",
    "junc_mean=[]\n",
    "junc_close=[]\n",
    "\n",
    "for name in inputs:\n",
    "    print('--',name,'--')\n",
    "    void_dataset_temp = gbvoid.gbvoid_dataset(name)\n",
    "    \n",
    "    #void_dataset=pd.concat(data, ignore_index='True')\n",
    "    void_dataset_temp.columns=columns_void\n",
    "    void_dataset_temp = void_dataset_temp.apply(pd.to_numeric) \n",
    "    print(void_dataset_temp.shape)\n",
    "    void_dataset_temp=void_dataset_temp.loc[void_dataset_temp['Void_Parameter'] != -1.0]\n",
    "    print(void_dataset_temp.shape)\n",
    "    \n",
    "    # Drop negative Void Parameter\n",
    "    void_dataset_temp=void_dataset_temp.drop(drop_col, axis=1)\n",
    "    print(void_dataset_temp.shape)\n",
    "    \n",
    "    nu=void_dataset_temp.isnull().sum()\n",
    "    nu_list=nu.tolist()\n",
    "    res=any(elem >0 for elem in nu_list)\n",
    "    if res:\n",
    "        print(nu)\n",
    "        void_dataset_temp['Junction'] = void_dataset_temp['Junction'].fillna(0)\n",
    "\n",
    "    # Divide into two dataframe, void gb and no void gb\n",
    "    selected_df_temp=void_dataset_temp.loc[void_dataset_temp['Void_Parameter'] != 0.0]\n",
    "    novoid_df_temp=void_dataset_temp.loc[void_dataset_temp['Void_Parameter'] == 0.0]\n",
    "    \n",
    "    # Group by void id and mean values\n",
    "    df_voids_temp=selected_df_temp.groupby(['Void_id']).mean()\n",
    "    # Group by void id and the closest gb to the void values\n",
    "    df_close_void_temp=selected_df_temp.loc[selected_df_temp.groupby('Void_id')['Distance_Center'].idxmin()]    \n",
    "    \n",
    "    # Save group DataSet\n",
    "    fileout_mean='/home/estanislao/Documents/ML_GB/GrainLearning/output/Dataframes/'+str(name)+'_mean'+'.csv'\n",
    "    fileout_close='/home/estanislao/Documents/ML_GB/GrainLearning/output/Dataframes/'+str(name)+'_close'+'.csv'\n",
    "\n",
    "    df_voids_temp.to_csv(fileout_mean, header=True)\n",
    "    df_close_void_temp.to_csv(fileout_close, header=True)\n",
    "\n",
    "    # Keep values as list\n",
    "    miso_mean_temp=df_voids_temp['misorientation'].tolist()\n",
    "    miso_close_temp=df_close_void_temp['misorientation'].tolist()\n",
    "    miso_mean=miso_mean+miso_mean_temp\n",
    "    miso_close=miso_close+miso_close_temp\n",
    "\n",
    "    #miso_mean.append(miso_mean_temp)\n",
    "    #miso_close.append(miso_close_temp)\n",
    "    \n",
    "    length_mean_temp=df_voids_temp['Length'].tolist()\n",
    "    length_close_temp=df_close_void_temp['Length'].tolist()\n",
    "    length_mean=length_mean+length_mean_temp\n",
    "    length_close=length_close+length_close_temp\n",
    "    \n",
    "    trace_mean_temp=df_voids_temp['Trace'].tolist()\n",
    "    trace_close_temp=df_close_void_temp['Trace'].tolist()\n",
    "    trace_mean=trace_mean+trace_mean_temp\n",
    "    trace_close=trace_close+trace_close_temp\n",
    "    #trace_mean.append(trace_mean_temp)\n",
    "    #trace_close.append(trace_close_temp)\n",
    "    \n",
    "    sigma_mean_temp=df_voids_temp['Sigma'].tolist()\n",
    "    sigma_close_temp=df_close_void_temp['Sigma'].tolist()\n",
    "    sigma_mean=sigma_mean+sigma_mean_temp\n",
    "    sigma_close=sigma_close+sigma_close_temp\n",
    "    #sigma_mean.append(sigma_mean_temp)\n",
    "    #sigma_close.append(sigma_close_temp)\n",
    "    \n",
    "    junc_mean_temp=df_voids_temp['Junction'].tolist()\n",
    "    junc_close_temp=df_close_void_temp['Junction'].tolist()\n",
    "    junc_mean=junc_mean+junc_mean_temp\n",
    "    junc_close=junc_close+junc_close_temp\n",
    "    #junc_mean.append(junc_mean_temp)\n",
    "    #junc_close.append(junc_close_temp)"
   ]
  },
  {
   "cell_type": "code",
   "execution_count": 115,
   "metadata": {},
   "outputs": [
    {
     "data": {
      "image/png": "[encoded data removed]",
      "text/plain": [
       "<Figure size 432x288 with 1 Axes>"
      ]
     },
     "metadata": {
      "needs_background": "light"
     },
     "output_type": "display_data"
    }
   ],
   "source": [
    "plt.hist(miso_mean, density=True, bins=30)  # density=False would make counts\n",
    "plt.ylabel('Probability')\n",
    "plt.xlabel('Data');"
   ]
  },
  {
   "cell_type": "code",
   "execution_count": 167,
   "metadata": {},
   "outputs": [
    {
     "data": {
      "image/png": "[encoded data removed]",
      "text/plain": [
       "<Figure size 720x576 with 1 Axes>"
      ]
     },
     "metadata": {},
     "output_type": "display_data"
    }
   ],
   "source": [
    "sns.set(rc={\"figure.figsize\": (10, 8)})\n",
    "sns.set_style(\"darkgrid\")\n",
    "ax = sns.histplot(miso_mean, bins= 30, kde= True)\n",
    "ax.set_ylabel('Count')\n",
    "ax.set_xlabel('Misorientation [degree]')\n",
    "ax.set_title(\"Histogram of Misorientation angle\")\n",
    "plt.savefig('save_as_a_png.png',bbox_inches='tight')"
   ]
  },
  {
   "cell_type": "code",
   "execution_count": 168,
   "metadata": {},
   "outputs": [
    {
     "data": {
      "image/png": "[encoded data removed]",
      "text/plain": [
       "<Figure size 720x576 with 1 Axes>"
      ]
     },
     "metadata": {},
     "output_type": "display_data"
    }
   ],
   "source": [
    "sns.set(rc={\"figure.figsize\": (10, 8)})\n",
    "sns.set_style(\"darkgrid\")\n",
    "ax = sns.histplot(miso_close, bins= 30, kde= True)\n",
    "ax.set_ylabel('Count')\n",
    "ax.set_xlabel('Misorientation [degree]')\n",
    "ax.set_title(\"Histogram of Misorientation angle\")\n",
    "plt.savefig('save_as_a_png.png',bbox_inches='tight')"
   ]
  },
  {
   "cell_type": "code",
   "execution_count": 172,
   "metadata": {},
   "outputs": [
    {
     "data": {
      "text/plain": [
       "DescribeResult(nobs=595, minmax=(1.1, 60.9), mean=36.19426890756302, variance=264.512866930934, skewness=-0.4076124627006636, kurtosis=-1.0614944895162903)"
      ]
     },
     "execution_count": 172,
     "metadata": {},
     "output_type": "execute_result"
    }
   ],
   "source": [
    "from scipy import stats\n",
    "stats.describe(miso_close)"
   ]
  },
  {
   "cell_type": "code",
   "execution_count": 155,
   "metadata": {},
   "outputs": [
    {
     "data": {
      "text/plain": [
       "Text(0.5, 1.0, 'Histogram of gb length')"
      ]
     },
     "execution_count": 155,
     "metadata": {},
     "output_type": "execute_result"
    },
    {
     "data": {
      "image/png": "[encoded data removed]",
      "text/plain": [
       "<Figure size 720x576 with 1 Axes>"
      ]
     },
     "metadata": {},
     "output_type": "display_data"
    }
   ],
   "source": [
    "sns.set(rc={\"figure.figsize\": (10, 8)})\n",
    "sns.set_style(\"darkgrid\")\n",
    "ax = sns.histplot(length_mean, bins= 30, kde= True)\n",
    "ax.set_ylabel('Count')\n",
    "ax.set_xlabel('length [microns]')\n",
    "ax.set_title(\"Histogram of gb length\")"
   ]
  },
  {
   "cell_type": "code",
   "execution_count": 156,
   "metadata": {},
   "outputs": [
    {
     "data": {
      "text/plain": [
       "Text(0.5, 1.0, 'Histogram of gb length')"
      ]
     },
     "execution_count": 156,
     "metadata": {},
     "output_type": "execute_result"
    },
    {
     "data": {
      "image/png": "[encoded data removed]",
      "text/plain": [
       "<Figure size 720x576 with 1 Axes>"
      ]
     },
     "metadata": {},
     "output_type": "display_data"
    }
   ],
   "source": [
    "sns.set(rc={\"figure.figsize\": (10, 8)})\n",
    "sns.set_style(\"darkgrid\")\n",
    "ax = sns.histplot(length_close, bins= 30, kde= True)\n",
    "ax.set_ylabel('Count')\n",
    "ax.set_xlabel('length [microns]')\n",
    "ax.set_title(\"Histogram of gb length\")"
   ]
  },
  {
   "cell_type": "code",
   "execution_count": 157,
   "metadata": {},
   "outputs": [
    {
     "data": {
      "text/plain": [
       "Text(0.5, 1.0, 'Histogram of Trace angle')"
      ]
     },
     "execution_count": 157,
     "metadata": {},
     "output_type": "execute_result"
    },
    {
     "data": {
      "image/png": "[encoded data removed]",
      "text/plain": [
       "<Figure size 720x576 with 1 Axes>"
      ]
     },
     "metadata": {},
     "output_type": "display_data"
    }
   ],
   "source": [
    "sns.set(rc={\"figure.figsize\": (10, 8)})\n",
    "sns.set_style(\"darkgrid\")\n",
    "ax = sns.histplot(trace_mean, bins= 30, kde= True)\n",
    "ax.set_ylabel('Count')\n",
    "ax.set_xlabel('trace [degree]')\n",
    "ax.set_title(\"Histogram of Trace angle\")"
   ]
  },
  {
   "cell_type": "code",
   "execution_count": 159,
   "metadata": {},
   "outputs": [
    {
     "data": {
      "text/plain": [
       "Text(0.5, 1.0, 'Histogram of Trace angle')"
      ]
     },
     "execution_count": 159,
     "metadata": {},
     "output_type": "execute_result"
    },
    {
     "data": {
      "image/png": "[encoded data removed]",
      "text/plain": [
       "<Figure size 720x576 with 1 Axes>"
      ]
     },
     "metadata": {},
     "output_type": "display_data"
    }
   ],
   "source": [
    "sns.set(rc={\"figure.figsize\": (10, 8)})\n",
    "sns.set_style(\"darkgrid\")\n",
    "ax = sns.histplot(trace_close, bins= 30, kde= True)\n",
    "ax.set_ylabel('Count')\n",
    "ax.set_xlabel('trace [degree]')\n",
    "ax.set_title(\"Histogram of Trace angle\")"
   ]
  },
  {
   "cell_type": "code",
   "execution_count": 173,
   "metadata": {},
   "outputs": [
    {
     "data": {
      "text/plain": [
       "Text(0.5, 1.0, 'Histogram of CSL')"
      ]
     },
     "execution_count": 173,
     "metadata": {},
     "output_type": "execute_result"
    },
    {
     "data": {
      "image/png": "[encoded data removed]",
      "text/plain": [
       "<Figure size 720x576 with 1 Axes>"
      ]
     },
     "metadata": {},
     "output_type": "display_data"
    }
   ],
   "source": [
    "sns.set(rc={\"figure.figsize\": (10, 8)})\n",
    "sns.set_style(\"darkgrid\")\n",
    "ax = sns.histplot(sigma_mean, bins= 30, kde= True)\n",
    "ax.set_ylabel('Count')\n",
    "ax.set_xlabel('CSL')\n",
    "ax.set_title(\"Histogram of CSL\")"
   ]
  },
  {
   "cell_type": "code",
   "execution_count": 174,
   "metadata": {},
   "outputs": [
    {
     "data": {
      "text/plain": [
       "Text(0.5, 1.0, 'Histogram of CSL')"
      ]
     },
     "execution_count": 174,
     "metadata": {},
     "output_type": "execute_result"
    },
    {
     "data": {
      "image/png": "[encoded data removed]",
      "text/plain": [
       "<Figure size 720x576 with 1 Axes>"
      ]
     },
     "metadata": {},
     "output_type": "display_data"
    }
   ],
   "source": [
    "sns.set(rc={\"figure.figsize\": (10, 8)})\n",
    "sns.set_style(\"darkgrid\")\n",
    "ax = sns.histplot(sigma_close, bins= 30, kde= True)\n",
    "ax.set_ylabel('Count')\n",
    "ax.set_xlabel('CSL')\n",
    "ax.set_title(\"Histogram of CSL\")"
   ]
  },
  {
   "cell_type": "code",
   "execution_count": 176,
   "metadata": {},
   "outputs": [
    {
     "data": {
      "text/plain": [
       "Text(0.5, 1.0, 'Histogram of junction')"
      ]
     },
     "execution_count": 176,
     "metadata": {},
     "output_type": "execute_result"
    },
    {
     "data": {
      "image/png": "[encoded data removed]",
      "text/plain": [
       "<Figure size 720x576 with 1 Axes>"
      ]
     },
     "metadata": {},
     "output_type": "display_data"
    }
   ],
   "source": [
    "sns.set(rc={\"figure.figsize\": (10, 8)})\n",
    "sns.set_style(\"darkgrid\")\n",
    "ax = sns.histplot(junc_mean, bins= 30, kde= True)\n",
    "ax.set_ylabel('Count')\n",
    "ax.set_xlabel('junction type')\n",
    "ax.set_title(\"Histogram of junction\")"
   ]
  },
  {
   "cell_type": "code",
   "execution_count": 177,
   "metadata": {},
   "outputs": [
    {
     "data": {
      "text/plain": [
       "Text(0.5, 1.0, 'Histogram of junction')"
      ]
     },
     "execution_count": 177,
     "metadata": {},
     "output_type": "execute_result"
    },
    {
     "data": {
      "image/png": "[encoded data removed]",
      "text/plain": [
       "<Figure size 720x576 with 1 Axes>"
      ]
     },
     "metadata": {},
     "output_type": "display_data"
    }
   ],
   "source": [
    "sns.set(rc={\"figure.figsize\": (10, 8)})\n",
    "sns.set_style(\"darkgrid\")\n",
    "ax = sns.histplot(junc_close, bins= 30, kde= True)\n",
    "ax.set_ylabel('Count')\n",
    "ax.set_xlabel('junction type')\n",
    "ax.set_title(\"Histogram of junction\")"
   ]
  }
 ],
 "metadata": {
  "kernelspec": {
   "display_name": "Python 3",
   "language": "python",
   "name": "python3"
  },
  "language_info": {
   "codemirror_mode": {
    "name": "ipython",
    "version": 3
   },
   "file_extension": ".py",
   "mimetype": "text/x-python",
   "name": "python",
   "nbconvert_exporter": "python",
   "pygments_lexer": "ipython3",
   "version": "3.8.5"
  }
 },
 "nbformat": 4,
 "nbformat_minor": 4
}
