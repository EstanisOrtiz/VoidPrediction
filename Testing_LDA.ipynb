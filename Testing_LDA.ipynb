{
 "cells": [
  {
   "cell_type": "code",
   "execution_count": 1,
   "metadata": {},
   "outputs": [],
   "source": [
    "import pandas as pd\n",
    "#import pandas_ml as pdml\n",
    "import numpy as np\n",
    "from matplotlib import pyplot as plt\n",
    "import seaborn as sns\n",
    "sns.set()\n",
    "\n",
    "from sklearn.preprocessing import LabelEncoder\n",
    "from sklearn.tree import DecisionTreeClassifier\n",
    "from sklearn.ensemble import RandomForestClassifier\n",
    "from sklearn.model_selection import train_test_split\n",
    "from sklearn.metrics import confusion_matrix\n",
    "\n",
    "from sklearn.discriminant_analysis import LinearDiscriminantAnalysis\n",
    "\n",
    "\n",
    "from modules import gbvoid_dataset as gbvoid\n",
    "from modules import LDA_Model as LDA_model"
   ]
  },
  {
   "cell_type": "code",
   "execution_count": 2,
   "metadata": {},
   "outputs": [],
   "source": [
    "# DATA\n",
    "\n",
    "inputs = ['1_001', '1_002', '1_003', '1_004', '1_005', '1_006', '1_007', '1_008', '1_009', '1_010',\n",
    "          '2_001', '2_002', '2_003', '2_004', '2_005', '2_006', '2_007', '2_008', '2_009',\n",
    "          '3_001', '3_002', '3_003', '3_004', '3_005', '3_006', '3_007', '3_008', '3_009', '3_010',\n",
    "          '4_001', '4_002', '4_003', '4_004', '4_005', '4_007', '4_008', '4_009',\n",
    "          '5_001', '5_002', '5_003', '5_004', '5_005', '5_006', '5_007', '5_008', '5_009', '5_010', '5_011',\n",
    "          '6_001', '6_002', '6_003', '6_004', '6_005', '6_006', '6_007', '6_008', '6_009']\n",
    "\n",
    "columns_void=['phi1_right','PHI_right','phi2_right','phi1_left','PHI_left','phi2_left',\n",
    "         'Misorientation Angle','Mis. X in Right Hand Grain','Mis. Y in Right Hand Grain', 'Mis. Z in Right Hand Grain',\n",
    "         'Mis. X in Left Hand Grain','Mis. Y in Left Hand Grain','Mis. Z in Left Hand Grain',\n",
    "         'Lenght','Trace', 'X start', 'Y start', 'X end','Y end','ID Right Grain', 'ID Left Grain', 'Void']\n",
    "\n",
    "columns_drop=['ID Right Grain','ID Left Grain']\n",
    "\n",
    "# Collect all txt data\n",
    "data=[]\n",
    "for name in inputs:\n",
    "    void_dataset_temp = gbvoid.gbvoid_dataset(name)\n",
    "    data.append(void_dataset_temp)\n",
    "void_dataset=pd.concat(data, ignore_index='True')\n",
    "void_dataset.columns=columns_void\n",
    "\n",
    "# Drop ID grain form the dataset\n",
    "void_dataset=void_dataset.drop(columns_drop, axis=1)"
   ]
  },
  {
   "cell_type": "code",
   "execution_count": 3,
   "metadata": {},
   "outputs": [],
   "source": [
    "X = void_dataset.iloc[:,:-1].values\n",
    "Y = void_dataset.iloc[:,-1].values"
   ]
  },
  {
   "cell_type": "code",
   "execution_count": 4,
   "metadata": {},
   "outputs": [],
   "source": [
    "X_dataset=pd.DataFrame(X)"
   ]
  },
  {
   "cell_type": "code",
   "execution_count": 5,
   "metadata": {},
   "outputs": [],
   "source": [
    "X_train, X_test, y_train, y_test = train_test_split(void_dataset.drop('Void', axis=1),void_dataset['Void'], test_size=0.10, random_state=0)\n",
    "df_train=X_train\n",
    "df_train['Void']=y_train"
   ]
  },
  {
   "cell_type": "code",
   "execution_count": 153,
   "metadata": {},
   "outputs": [
    {
     "data": {
      "text/html": [
       "<div>\n",
       "<style scoped>\n",
       "    .dataframe tbody tr th:only-of-type {\n",
       "        vertical-align: middle;\n",
       "    }\n",
       "\n",
       "    .dataframe tbody tr th {\n",
       "        vertical-align: top;\n",
       "    }\n",
       "\n",
       "    .dataframe thead th {\n",
       "        text-align: right;\n",
       "    }\n",
       "</style>\n",
       "<table border=\"1\" class=\"dataframe\">\n",
       "  <thead>\n",
       "    <tr style=\"text-align: right;\">\n",
       "      <th></th>\n",
       "      <th>phi1_right</th>\n",
       "      <th>PHI_right</th>\n",
       "      <th>phi2_right</th>\n",
       "      <th>phi1_left</th>\n",
       "      <th>PHI_left</th>\n",
       "      <th>phi2_left</th>\n",
       "      <th>Misorientation Angle</th>\n",
       "      <th>Mis. X in Right Hand Grain</th>\n",
       "      <th>Mis. Y in Right Hand Grain</th>\n",
       "      <th>Mis. Z in Right Hand Grain</th>\n",
       "      <th>Mis. X in Right Hand Grain</th>\n",
       "      <th>Mis. Y in Right Hand Grain</th>\n",
       "      <th>Mis. Z in Right Hand Grain</th>\n",
       "      <th>Lenght</th>\n",
       "      <th>Trace</th>\n",
       "      <th>X start</th>\n",
       "      <th>Y start</th>\n",
       "      <th>X end</th>\n",
       "      <th>Y end</th>\n",
       "      <th>Void</th>\n",
       "    </tr>\n",
       "  </thead>\n",
       "  <tbody>\n",
       "    <tr>\n",
       "      <th>194073</th>\n",
       "      <td>3.961</td>\n",
       "      <td>0.429</td>\n",
       "      <td>2.912</td>\n",
       "      <td>2.820</td>\n",
       "      <td>0.744</td>\n",
       "      <td>3.931</td>\n",
       "      <td>38.19</td>\n",
       "      <td>4.0</td>\n",
       "      <td>-29.0</td>\n",
       "      <td>-1.0</td>\n",
       "      <td>4.0</td>\n",
       "      <td>-29.0</td>\n",
       "      <td>-1.0</td>\n",
       "      <td>6.000</td>\n",
       "      <td>120.0</td>\n",
       "      <td>22.0</td>\n",
       "      <td>167.43</td>\n",
       "      <td>25.0</td>\n",
       "      <td>172.63</td>\n",
       "      <td>0.0</td>\n",
       "    </tr>\n",
       "    <tr>\n",
       "      <th>1181</th>\n",
       "      <td>3.188</td>\n",
       "      <td>0.662</td>\n",
       "      <td>3.073</td>\n",
       "      <td>4.865</td>\n",
       "      <td>0.661</td>\n",
       "      <td>0.639</td>\n",
       "      <td>55.14</td>\n",
       "      <td>1.0</td>\n",
       "      <td>-15.0</td>\n",
       "      <td>-16.0</td>\n",
       "      <td>1.0</td>\n",
       "      <td>-15.0</td>\n",
       "      <td>-16.0</td>\n",
       "      <td>30.265</td>\n",
       "      <td>136.6</td>\n",
       "      <td>266.0</td>\n",
       "      <td>628.16</td>\n",
       "      <td>288.0</td>\n",
       "      <td>648.94</td>\n",
       "      <td>0.0</td>\n",
       "    </tr>\n",
       "    <tr>\n",
       "      <th>195512</th>\n",
       "      <td>0.878</td>\n",
       "      <td>0.761</td>\n",
       "      <td>4.829</td>\n",
       "      <td>3.868</td>\n",
       "      <td>0.772</td>\n",
       "      <td>2.193</td>\n",
       "      <td>32.05</td>\n",
       "      <td>5.0</td>\n",
       "      <td>-1.0</td>\n",
       "      <td>2.0</td>\n",
       "      <td>5.0</td>\n",
       "      <td>-1.0</td>\n",
       "      <td>2.0</td>\n",
       "      <td>18.903</td>\n",
       "      <td>17.8</td>\n",
       "      <td>366.0</td>\n",
       "      <td>1026.53</td>\n",
       "      <td>384.0</td>\n",
       "      <td>1020.76</td>\n",
       "      <td>0.0</td>\n",
       "    </tr>\n",
       "    <tr>\n",
       "      <th>44074</th>\n",
       "      <td>4.041</td>\n",
       "      <td>0.669</td>\n",
       "      <td>1.588</td>\n",
       "      <td>3.318</td>\n",
       "      <td>0.334</td>\n",
       "      <td>3.446</td>\n",
       "      <td>33.63</td>\n",
       "      <td>15.0</td>\n",
       "      <td>-19.0</td>\n",
       "      <td>18.0</td>\n",
       "      <td>15.0</td>\n",
       "      <td>-19.0</td>\n",
       "      <td>18.0</td>\n",
       "      <td>2.000</td>\n",
       "      <td>180.0</td>\n",
       "      <td>836.0</td>\n",
       "      <td>153.58</td>\n",
       "      <td>838.0</td>\n",
       "      <td>153.58</td>\n",
       "      <td>0.0</td>\n",
       "    </tr>\n",
       "    <tr>\n",
       "      <th>187507</th>\n",
       "      <td>3.239</td>\n",
       "      <td>0.485</td>\n",
       "      <td>3.431</td>\n",
       "      <td>3.808</td>\n",
       "      <td>0.657</td>\n",
       "      <td>1.927</td>\n",
       "      <td>37.20</td>\n",
       "      <td>12.0</td>\n",
       "      <td>11.0</td>\n",
       "      <td>-25.0</td>\n",
       "      <td>12.0</td>\n",
       "      <td>11.0</td>\n",
       "      <td>-25.0</td>\n",
       "      <td>23.065</td>\n",
       "      <td>4.3</td>\n",
       "      <td>309.0</td>\n",
       "      <td>799.63</td>\n",
       "      <td>332.0</td>\n",
       "      <td>797.90</td>\n",
       "      <td>0.0</td>\n",
       "    </tr>\n",
       "    <tr>\n",
       "      <th>...</th>\n",
       "      <td>...</td>\n",
       "      <td>...</td>\n",
       "      <td>...</td>\n",
       "      <td>...</td>\n",
       "      <td>...</td>\n",
       "      <td>...</td>\n",
       "      <td>...</td>\n",
       "      <td>...</td>\n",
       "      <td>...</td>\n",
       "      <td>...</td>\n",
       "      <td>...</td>\n",
       "      <td>...</td>\n",
       "      <td>...</td>\n",
       "      <td>...</td>\n",
       "      <td>...</td>\n",
       "      <td>...</td>\n",
       "      <td>...</td>\n",
       "      <td>...</td>\n",
       "      <td>...</td>\n",
       "      <td>...</td>\n",
       "    </tr>\n",
       "    <tr>\n",
       "      <th>152315</th>\n",
       "      <td>1.806</td>\n",
       "      <td>0.215</td>\n",
       "      <td>4.496</td>\n",
       "      <td>6.180</td>\n",
       "      <td>0.670</td>\n",
       "      <td>5.673</td>\n",
       "      <td>55.66</td>\n",
       "      <td>5.0</td>\n",
       "      <td>-3.0</td>\n",
       "      <td>3.0</td>\n",
       "      <td>5.0</td>\n",
       "      <td>-3.0</td>\n",
       "      <td>3.0</td>\n",
       "      <td>9.866</td>\n",
       "      <td>95.8</td>\n",
       "      <td>512.0</td>\n",
       "      <td>635.09</td>\n",
       "      <td>513.0</td>\n",
       "      <td>644.90</td>\n",
       "      <td>0.0</td>\n",
       "    </tr>\n",
       "    <tr>\n",
       "      <th>176963</th>\n",
       "      <td>5.967</td>\n",
       "      <td>0.490</td>\n",
       "      <td>0.425</td>\n",
       "      <td>2.986</td>\n",
       "      <td>0.517</td>\n",
       "      <td>3.284</td>\n",
       "      <td>37.90</td>\n",
       "      <td>-14.0</td>\n",
       "      <td>-3.0</td>\n",
       "      <td>6.0</td>\n",
       "      <td>-14.0</td>\n",
       "      <td>-3.0</td>\n",
       "      <td>6.0</td>\n",
       "      <td>5.033</td>\n",
       "      <td>126.6</td>\n",
       "      <td>459.0</td>\n",
       "      <td>468.23</td>\n",
       "      <td>462.0</td>\n",
       "      <td>472.27</td>\n",
       "      <td>0.0</td>\n",
       "    </tr>\n",
       "    <tr>\n",
       "      <th>117952</th>\n",
       "      <td>0.118</td>\n",
       "      <td>0.704</td>\n",
       "      <td>6.248</td>\n",
       "      <td>4.333</td>\n",
       "      <td>0.550</td>\n",
       "      <td>1.721</td>\n",
       "      <td>53.33</td>\n",
       "      <td>-9.0</td>\n",
       "      <td>7.0</td>\n",
       "      <td>-5.0</td>\n",
       "      <td>-9.0</td>\n",
       "      <td>7.0</td>\n",
       "      <td>-5.0</td>\n",
       "      <td>23.692</td>\n",
       "      <td>147.6</td>\n",
       "      <td>982.0</td>\n",
       "      <td>383.36</td>\n",
       "      <td>1002.0</td>\n",
       "      <td>396.06</td>\n",
       "      <td>0.0</td>\n",
       "    </tr>\n",
       "    <tr>\n",
       "      <th>173685</th>\n",
       "      <td>1.974</td>\n",
       "      <td>0.250</td>\n",
       "      <td>4.023</td>\n",
       "      <td>1.697</td>\n",
       "      <td>0.708</td>\n",
       "      <td>4.440</td>\n",
       "      <td>28.57</td>\n",
       "      <td>4.0</td>\n",
       "      <td>-20.0</td>\n",
       "      <td>-7.0</td>\n",
       "      <td>4.0</td>\n",
       "      <td>-20.0</td>\n",
       "      <td>-7.0</td>\n",
       "      <td>35.005</td>\n",
       "      <td>0.9</td>\n",
       "      <td>2.0</td>\n",
       "      <td>468.81</td>\n",
       "      <td>37.0</td>\n",
       "      <td>468.23</td>\n",
       "      <td>0.0</td>\n",
       "    </tr>\n",
       "    <tr>\n",
       "      <th>43567</th>\n",
       "      <td>2.711</td>\n",
       "      <td>0.197</td>\n",
       "      <td>3.616</td>\n",
       "      <td>4.480</td>\n",
       "      <td>0.587</td>\n",
       "      <td>2.442</td>\n",
       "      <td>47.98</td>\n",
       "      <td>6.0</td>\n",
       "      <td>21.0</td>\n",
       "      <td>-17.0</td>\n",
       "      <td>6.0</td>\n",
       "      <td>21.0</td>\n",
       "      <td>-17.0</td>\n",
       "      <td>31.048</td>\n",
       "      <td>176.8</td>\n",
       "      <td>688.0</td>\n",
       "      <td>566.96</td>\n",
       "      <td>719.0</td>\n",
       "      <td>568.69</td>\n",
       "      <td>0.0</td>\n",
       "    </tr>\n",
       "  </tbody>\n",
       "</table>\n",
       "<p>177573 rows × 20 columns</p>\n",
       "</div>"
      ],
      "text/plain": [
       "        phi1_right  PHI_right  phi2_right  phi1_left  PHI_left  phi2_left  \\\n",
       "194073       3.961      0.429       2.912      2.820     0.744      3.931   \n",
       "1181         3.188      0.662       3.073      4.865     0.661      0.639   \n",
       "195512       0.878      0.761       4.829      3.868     0.772      2.193   \n",
       "44074        4.041      0.669       1.588      3.318     0.334      3.446   \n",
       "187507       3.239      0.485       3.431      3.808     0.657      1.927   \n",
       "...            ...        ...         ...        ...       ...        ...   \n",
       "152315       1.806      0.215       4.496      6.180     0.670      5.673   \n",
       "176963       5.967      0.490       0.425      2.986     0.517      3.284   \n",
       "117952       0.118      0.704       6.248      4.333     0.550      1.721   \n",
       "173685       1.974      0.250       4.023      1.697     0.708      4.440   \n",
       "43567        2.711      0.197       3.616      4.480     0.587      2.442   \n",
       "\n",
       "        Misorientation Angle  Mis. X in Right Hand Grain  \\\n",
       "194073                 38.19                         4.0   \n",
       "1181                   55.14                         1.0   \n",
       "195512                 32.05                         5.0   \n",
       "44074                  33.63                        15.0   \n",
       "187507                 37.20                        12.0   \n",
       "...                      ...                         ...   \n",
       "152315                 55.66                         5.0   \n",
       "176963                 37.90                       -14.0   \n",
       "117952                 53.33                        -9.0   \n",
       "173685                 28.57                         4.0   \n",
       "43567                  47.98                         6.0   \n",
       "\n",
       "        Mis. Y in Right Hand Grain  Mis. Z in Right Hand Grain  \\\n",
       "194073                       -29.0                        -1.0   \n",
       "1181                         -15.0                       -16.0   \n",
       "195512                        -1.0                         2.0   \n",
       "44074                        -19.0                        18.0   \n",
       "187507                        11.0                       -25.0   \n",
       "...                            ...                         ...   \n",
       "152315                        -3.0                         3.0   \n",
       "176963                        -3.0                         6.0   \n",
       "117952                         7.0                        -5.0   \n",
       "173685                       -20.0                        -7.0   \n",
       "43567                         21.0                       -17.0   \n",
       "\n",
       "        Mis. X in Right Hand Grain  Mis. Y in Right Hand Grain  \\\n",
       "194073                         4.0                       -29.0   \n",
       "1181                           1.0                       -15.0   \n",
       "195512                         5.0                        -1.0   \n",
       "44074                         15.0                       -19.0   \n",
       "187507                        12.0                        11.0   \n",
       "...                            ...                         ...   \n",
       "152315                         5.0                        -3.0   \n",
       "176963                       -14.0                        -3.0   \n",
       "117952                        -9.0                         7.0   \n",
       "173685                         4.0                       -20.0   \n",
       "43567                          6.0                        21.0   \n",
       "\n",
       "        Mis. Z in Right Hand Grain  Lenght  Trace  X start  Y start   X end  \\\n",
       "194073                        -1.0   6.000  120.0     22.0   167.43    25.0   \n",
       "1181                         -16.0  30.265  136.6    266.0   628.16   288.0   \n",
       "195512                         2.0  18.903   17.8    366.0  1026.53   384.0   \n",
       "44074                         18.0   2.000  180.0    836.0   153.58   838.0   \n",
       "187507                       -25.0  23.065    4.3    309.0   799.63   332.0   \n",
       "...                            ...     ...    ...      ...      ...     ...   \n",
       "152315                         3.0   9.866   95.8    512.0   635.09   513.0   \n",
       "176963                         6.0   5.033  126.6    459.0   468.23   462.0   \n",
       "117952                        -5.0  23.692  147.6    982.0   383.36  1002.0   \n",
       "173685                        -7.0  35.005    0.9      2.0   468.81    37.0   \n",
       "43567                        -17.0  31.048  176.8    688.0   566.96   719.0   \n",
       "\n",
       "          Y end  Void  \n",
       "194073   172.63   0.0  \n",
       "1181     648.94   0.0  \n",
       "195512  1020.76   0.0  \n",
       "44074    153.58   0.0  \n",
       "187507   797.90   0.0  \n",
       "...         ...   ...  \n",
       "152315   644.90   0.0  \n",
       "176963   472.27   0.0  \n",
       "117952   396.06   0.0  \n",
       "173685   468.23   0.0  \n",
       "43567    568.69   0.0  \n",
       "\n",
       "[177573 rows x 20 columns]"
      ]
     },
     "execution_count": 153,
     "metadata": {},
     "output_type": "execute_result"
    }
   ],
   "source": [
    "df_train"
   ]
  },
  {
   "cell_type": "code",
   "execution_count": 4,
   "metadata": {},
   "outputs": [
    {
     "name": "stdout",
     "output_type": "stream",
     "text": [
      "Pairs\n",
      "162221356.70501685\n",
      "162221356.70501685\n",
      "5060.211757630475\n",
      "2.37374544885132\n",
      "2.37374544885132\n",
      "0.2080262068313836\n",
      "0.20801653011757387\n",
      "4.45464626177879e-05\n",
      "2.787914071399218e-05\n",
      "8.463730115797771e-07\n",
      "8.463730115797771e-07\n",
      "5.758273053482304e-07\n",
      "2.398637256740675e-07\n",
      "2.398637256740675e-07\n",
      "2.1288908523241908e-07\n",
      "3.417072890775469e-08\n",
      "1.0492025109427765e-08\n",
      "4.753900536527748e-09\n",
      "2.845417015150392e-10\n",
      "------------------\n",
      "Explained Variance\n",
      "Eigenvector 0: 2.324487373303503\n",
      "Eigenvector 1: 2.324487373303503\n",
      "Eigenvector 2: 7.250832181266182e-05\n",
      "Eigenvector 3: 3.401365538647914e-08\n",
      "Eigenvector 4: 3.401365538647914e-08\n",
      "Eigenvector 5: 2.9808300270541367e-09\n",
      "Eigenvector 6: 2.9806913683748933e-09\n",
      "Eigenvector 7: 6.383110829770429e-13\n",
      "Eigenvector 8: 3.9948322393867817e-13\n",
      "Eigenvector 9: 1.2127770464277027e-14\n",
      "Eigenvector 10: 1.2127770464277027e-14\n",
      "Eigenvector 11: 8.25109176542812e-15\n",
      "Eigenvector 12: 3.4370332795130795e-15\n",
      "Eigenvector 13: 3.4370332795130795e-15\n",
      "Eigenvector 14: 3.0505107378477956e-15\n",
      "Eigenvector 15: 4.896360719451211e-16\n",
      "Eigenvector 16: 1.5034136307709664e-16\n",
      "Eigenvector 17: 6.811915518123488e-17\n",
      "Eigenvector 18: 4.077228829695443e-18\n"
     ]
    },
    {
     "data": {
      "image/png": "[encoded data removed]",
      "text/plain": [
       "<Figure size 432x288 with 1 Axes>"
      ]
     },
     "metadata": {},
     "output_type": "display_data"
    }
   ],
   "source": [
    "LDA_model.LDA_model(df_train)"
   ]
  },
  {
   "cell_type": "code",
   "execution_count": 15,
   "metadata": {},
   "outputs": [],
   "source": [
    "# Within Class Scatter Matrix\n",
    "class_feature_means = pd.DataFrame(columns=[0.0, 1.0])\n",
    "for c, rows in void_dataset.groupby('Void'):\n",
    "    class_feature_means[c] = rows.mean()\n",
    "\n",
    "class_feature_means=class_feature_means.drop(['Void'])"
   ]
  },
  {
   "cell_type": "code",
   "execution_count": 16,
   "metadata": {},
   "outputs": [],
   "source": [
    "within_class_scatter_matrix = np.zeros((19,19))\n",
    "for c, rows in void_dataset.groupby('Void'):\n",
    "    rows = rows.drop(['Void'], axis=1)   \n",
    "    s = np.zeros((19,19))\n",
    "\n",
    "for index, row in rows.iterrows():\n",
    "    x, mc = row.values.reshape(19,1), class_feature_means[c].values.reshape(19,1)\n",
    "    s += (x - mc).dot((x - mc).T)\n",
    "    within_class_scatter_matrix += s"
   ]
  },
  {
   "cell_type": "code",
   "execution_count": 18,
   "metadata": {},
   "outputs": [],
   "source": [
    "feature_means = X_dataset.mean()\n",
    "between_class_scatter_matrix = np.zeros((19,19))\n",
    "for c in class_feature_means:    \n",
    "    n = len(void_dataset.loc[void_dataset['Void'] == c].index)\n",
    "    mc, m = class_feature_means[c].values.reshape(19,1), feature_means.values.reshape(19,1)\n",
    "    between_class_scatter_matrix += n * (mc - m).dot((mc - m).T)"
   ]
  },
  {
   "cell_type": "code",
   "execution_count": 19,
   "metadata": {},
   "outputs": [],
   "source": [
    "eigen_values, eigen_vectors = np.linalg.eig(np.linalg.inv(within_class_scatter_matrix).dot(between_class_scatter_matrix))"
   ]
  },
  {
   "cell_type": "code",
   "execution_count": 20,
   "metadata": {},
   "outputs": [
    {
     "name": "stdout",
     "output_type": "stream",
     "text": [
      "0.001351911440929381\n",
      "0.0002919222841996992\n",
      "2.266412034879627e-06\n",
      "3.13174090424443e-07\n",
      "1.7325441709969645e-11\n",
      "1.732468358631856e-11\n",
      "1.2197672459287295e-12\n",
      "1.2197321751626508e-12\n",
      "1.1123515006253133e-12\n",
      "1.1123515006253133e-12\n",
      "5.52108534478692e-17\n",
      "1.6337082249133387e-17\n",
      "3.0902531024520434e-18\n",
      "1.5441946557739648e-18\n",
      "3.039705544536823e-19\n",
      "2.090341070848283e-19\n",
      "5.156164982777498e-20\n",
      "2.296976010066989e-20\n",
      "2.296976010066989e-20\n"
     ]
    }
   ],
   "source": [
    "pairs = [(np.abs(eigen_values[i]), eigen_vectors[:,i]) for i in range(len(eigen_values))]\n",
    "pairs = sorted(pairs, key=lambda x: x[0], reverse=True)\n",
    "for pair in pairs:\n",
    "    print(pair[0])"
   ]
  },
  {
   "cell_type": "code",
   "execution_count": 21,
   "metadata": {},
   "outputs": [
    {
     "name": "stdout",
     "output_type": "stream",
     "text": [
      "Explained Variance\n",
      "Eigenvector 0: -0.8211251887284267\n",
      "Eigenvector 1: -0.17730801992675252\n",
      "Eigenvector 2: -0.0013765753832200342\n",
      "Eigenvector 3: -0.00019021596113414133\n",
      "Eigenvector 4: -1.0523142391725135e-08\n",
      "Eigenvector 5: -1.0522681921899056e-08\n",
      "Eigenvector 6: -7.408633285398021e-10\n",
      "Eigenvector 7: -7.408420272263111e-10\n",
      "Eigenvector 8: -6.756210564024811e-10\n",
      "Eigenvector 9: -6.756210564024811e-10\n",
      "Eigenvector 10: -3.35340178984455e-14\n",
      "Eigenvector 11: -9.92283173213579e-15\n",
      "Eigenvector 12: -1.8769607129185387e-15\n",
      "Eigenvector 13: -9.379143409601925e-16\n",
      "Eigenvector 14: -1.8462590916611856e-16\n",
      "Eigenvector 15: -1.269633242490429e-16\n",
      "Eigenvector 16: -3.1317561316645735e-17\n",
      "Eigenvector 17: -1.3951393579998915e-17\n",
      "Eigenvector 18: -1.3951393579998915e-17\n"
     ]
    }
   ],
   "source": [
    "eigen_value_sums = sum(eigen_values)\n",
    "print('Explained Variance')\n",
    "for i, pair in enumerate(pairs):\n",
    "    print('Eigenvector {}: {}'.format(i, (pair[0]/eigen_value_sums).real))"
   ]
  },
  {
   "cell_type": "code",
   "execution_count": 22,
   "metadata": {},
   "outputs": [],
   "source": [
    "w_matrix = np.hstack((pairs[0][1].reshape(19,1), pairs[1][1].reshape(19,1))).real"
   ]
  },
  {
   "cell_type": "code",
   "execution_count": 23,
   "metadata": {},
   "outputs": [],
   "source": [
    "X_lda = np.array(X.dot(w_matrix))"
   ]
  },
  {
   "cell_type": "code",
   "execution_count": 24,
   "metadata": {},
   "outputs": [],
   "source": [
    "le = LabelEncoder()\n",
    "y = le.fit_transform(void_dataset['Void'])"
   ]
  },
  {
   "cell_type": "code",
   "execution_count": 25,
   "metadata": {},
   "outputs": [
    {
     "data": {
      "text/plain": [
       "<matplotlib.collections.PathCollection at 0x7f4125c062b0>"
      ]
     },
     "execution_count": 25,
     "metadata": {},
     "output_type": "execute_result"
    },
    {
     "data": {
      "image/png": "[encoded data removed]",
      "text/plain": [
       "<Figure size 432x288 with 1 Axes>"
      ]
     },
     "metadata": {},
     "output_type": "display_data"
    }
   ],
   "source": [
    "plt.xlabel('LD1')\n",
    "plt.ylabel('LD2')\n",
    "plt.scatter(\n",
    "    X_lda[:,0],\n",
    "    X_lda[:,1],\n",
    "    c=y,\n",
    "    cmap='rainbow',\n",
    "    alpha=0.7,\n",
    "    edgecolors='b'\n",
    ")"
   ]
  },
  {
   "cell_type": "code",
   "execution_count": 26,
   "metadata": {},
   "outputs": [
    {
     "data": {
      "text/plain": [
       "array([[48302,   507],\n",
       "       [  511,     6]])"
      ]
     },
     "execution_count": 26,
     "metadata": {},
     "output_type": "execute_result"
    }
   ],
   "source": [
    "X_train, X_test, y_train, y_test = train_test_split(X_lda, y, random_state=1)\n",
    "\n",
    "dt = DecisionTreeClassifier()\n",
    "dt.fit(X_train, y_train)\n",
    "y_pred = dt.predict(X_test)\n",
    "confusion_matrix(y_test, y_pred)"
   ]
  },
  {
   "cell_type": "code",
   "execution_count": 22,
   "metadata": {},
   "outputs": [],
   "source": [
    "lda = LinearDiscriminantAnalysis()\n",
    "X_train=X_train.drop(['Void'], axis=1)\n",
    "X_lda = lda.fit_transform(X_train, y_train)"
   ]
  },
  {
   "cell_type": "code",
   "execution_count": 17,
   "metadata": {},
   "outputs": [
    {
     "data": {
      "text/plain": [
       "194073    0.0\n",
       "1181      0.0\n",
       "195512    0.0\n",
       "44074     0.0\n",
       "187507    0.0\n",
       "         ... \n",
       "152315    0.0\n",
       "176963    0.0\n",
       "117952    0.0\n",
       "173685    0.0\n",
       "43567     0.0\n",
       "Name: Void, Length: 177573, dtype: float64"
      ]
     },
     "execution_count": 17,
     "metadata": {},
     "output_type": "execute_result"
    }
   ],
   "source": [
    "y_train"
   ]
  },
  {
   "cell_type": "code",
   "execution_count": 23,
   "metadata": {},
   "outputs": [
    {
     "data": {
      "text/plain": [
       "array([[ 0.99013295],\n",
       "       [-0.41361598],\n",
       "       [ 0.54348354],\n",
       "       ...,\n",
       "       [-0.45204179],\n",
       "       [ 0.75407442],\n",
       "       [-0.63021429]])"
      ]
     },
     "execution_count": 23,
     "metadata": {},
     "output_type": "execute_result"
    }
   ],
   "source": [
    "X_lda"
   ]
  },
  {
   "cell_type": "code",
   "execution_count": 15,
   "metadata": {},
   "outputs": [
    {
     "data": {
      "text/plain": [
       "array([1.])"
      ]
     },
     "execution_count": 15,
     "metadata": {},
     "output_type": "execute_result"
    }
   ],
   "source": [
    "lda.explained_variance_ratio_"
   ]
  }
 ],
 "metadata": {
  "kernelspec": {
   "display_name": "Python 3",
   "language": "python",
   "name": "python3"
  },
  "language_info": {
   "codemirror_mode": {
    "name": "ipython",
    "version": 3
   },
   "file_extension": ".py",
   "mimetype": "text/x-python",
   "name": "python",
   "nbconvert_exporter": "python",
   "pygments_lexer": "ipython3",
   "version": "3.7.3"
  }
 },
 "nbformat": 4,
 "nbformat_minor": 4
}
