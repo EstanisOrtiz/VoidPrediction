{
 "cells": [
  {
   "cell_type": "code",
   "execution_count": 1,
   "metadata": {},
   "outputs": [],
   "source": [
    "import numpy as np\n",
    "import matplotlib.pyplot as plt\n",
    "#import pandas as pd\n",
    "import os.path \n",
    "import math \n",
    "import cv2\n",
    "\n",
    "\n",
    "from modules import voiddetect as vd\n",
    "from modules import select_voidboundaries as sel\n",
    "from modules import calcs_all as calcs\n",
    "#from modules import conversions as convs\n",
    "\n",
    "#from modules import sym_op as symm\n",
    "from modules import trace_angle as t_ang\n",
    "\n",
    "from modules import misorientation"
   ]
  },
  {
   "cell_type": "code",
   "execution_count": 4,
   "metadata": {},
   "outputs": [
    {
     "name": "stdout",
     "output_type": "stream",
     "text": [
      "1_001\n"
     ]
    }
   ],
   "source": [
    "# Column 1-3:   right hand average orientation (phi1, PHI, phi2 in radians)\n",
    "# Column 4-6:   left hand average orientation (phi1, PHI, phi2 in radians)\n",
    "# Column 7:     Misorientation Angle\n",
    "# Column 8-10:  Misorientation Axis in Right Hand grain\n",
    "# Column 11-13: Misorientation Axis in Left Hand grain\n",
    "# Column 14:    length (in microns)\n",
    "# Column 15:    trace angle (in degrees)\n",
    "# Column 16-19: x,y coordinates of endpoints (in microns)\n",
    "# Column 20-21: IDs of right hand and left hand grains\n",
    "\n",
    "inputs = ['1_001', '1_002', '1_003', '1_004', '1_005', '1_006', '1_007', '1_008', '1_009', '1_010',\n",
    "          '2_001', '2_002', '2_003', '2_004', '2_005', '2_006', '2_007', '2_008', '2_009',\n",
    "          '3_001', '3_002', '3_003', '3_004', '3_005', '3_006', '3_007', '3_008', '3_009', '3_010',\n",
    "          '4_001', '4_002', '4_003', '4_004', '4_005', '4_007', '4_008', '4_009',\n",
    "          '5_001', '5_002', '5_003', '5_004', '5_005', '5_006', '5_007', '5_008', '5_009', '5_010', '5_011',\n",
    "          '6_001', '6_002', '6_003', '6_004', '6_005', '6_006', '6_007', '6_008', '6_009', '6_010']\n",
    "\n",
    "#inputs= ['1_001']\n",
    "\n",
    "for name in inputs:\n",
    "    print(name)\n",
    "    lattice = 'bcc'\n",
    "    # lattice = raw_input(\"\\n\\nCrystal Structure\\nIndicate crystal structure.\\nType one of the options fcc/bcc/hcp as shown: \")\n",
    "\n",
    "    ### get current directory\n",
    "    pa_current = os.getcwd()\n",
    "    pa_parent = os.path.dirname(pa_current)\n",
    "\n",
    "    # define paths for convenience\n",
    "    pa_pic = pa_current + '/pyinputs/' + name + '.jpg'\n",
    "    pa_txt = pa_current + '/pyinputs/' + name + '.txt'\n",
    "    pa_selected = pa_current + '/saboutputs/' + name + '/' + 'selected.txt'\n",
    "\n",
    "    ### Read data from text file\n",
    "    gbdata = np.genfromtxt(pa_txt)\n",
    "    selected_data = np.genfromtxt(pa_selected)\n",
    "    width = np.amax(gbdata[:, 17])\n",
    "    height = np.amax(gbdata[:, 18])\n",
    "    \n",
    "    ### Starting points\n",
    "    staptsx = gbdata[:, 15]\n",
    "    staptsy = gbdata[:, 16]\n",
    "    #### Ending points\n",
    "    endptsx = gbdata[:, 17]\n",
    "    endptsy = gbdata[:, 18]\n",
    "    mis_angle = gbdata[:,6]\n",
    "    trace=gbdata[:,14]\n",
    "    #### Euler values\n",
    "    eul1 = gbdata[:,(0,1,2)]\n",
    "    eul2 = gbdata[:,(3,4,5)]\n",
    "    \n",
    "    \n",
    "\n",
    "    # Find dimensions for picture\n",
    "    width = np.amax(gbdata[:, 17])\n",
    "    height = np.amax(gbdata[:, 18])\n",
    "    # Column 20-21: IDs of right hand and left hand grains\n",
    "    lhgrain=gbdata[:, 19]\n",
    "    rhgrain=gbdata[:, 20]    \n",
    "        \n",
    "    # define maximum void area as a multiple of average grain size (last number is factor of multiplication)\n",
    "    maxarea = width * height / np.amax(gbdata[:, 20]) * 2.5\n",
    "\n",
    "    ### run voiddetect module and return centers and radii of detected voids\n",
    "    centers, radii, vheight, voidimage, drawing = vd.findvoid(pa_pic, name, maxarea)\n",
    "\n",
    "    ### Select boundaries in void vicinity\n",
    "    selected = sel.selgb(gbdata, centers, radii)\n",
    "    break"
   ]
  },
  {
   "cell_type": "code",
   "execution_count": 40,
   "metadata": {},
   "outputs": [],
   "source": [
    "\"\"\"def rot2eul(R):\n",
    "    beta = -np.arcsin(R[2,0])\n",
    "    alpha = np.arctan2(R[2,1]/np.cos(beta),R[2,2]/np.cos(beta))\n",
    "    gamma = np.arctan2(R[1,0]/np.cos(beta),R[0,0]/np.cos(beta))\n",
    "    return np.array((alpha, beta, gamma))\n",
    "\n",
    "def eul2rot(theta):\n",
    "    R = np.array([[np.cos(theta[1])*np.cos(theta[2]),       np.sin(theta[0])*np.sin(theta[1])*np.cos(theta[2]) - np.sin(theta[2])*np.cos(theta[0]),      np.sin(theta[1])*np.cos(theta[0])*np.cos(theta[2]) + np.sin(theta[0])*np.sin(theta[2])],\n",
    "                  [np.sin(theta[2])*np.cos(theta[1]),       np.sin(theta[0])*np.sin(theta[1])*np.sin(theta[2]) + np.cos(theta[0])*np.cos(theta[2]),      np.sin(theta[1])*np.sin(theta[2])*np.cos(theta[0]) - np.sin(theta[0])*np.cos(theta[2])],\n",
    "                  [-np.sin(theta[1]),                        np.sin(theta[0])*np.cos(theta[1]),                                                           np.cos(theta[0])*np.cos(theta[1])]])\n",
    "\n",
    "    return R\n",
    "\n",
    "def eul2orient(theta): #Radians\n",
    "    g = np.array([[np.cos(theta[0])*np.cos(theta[2])-np.sin(theta[0])*np.sin(theta[2])*np.cos(theta[1]), np.sin(theta[0])*np.cos(theta[2])+np.cos(theta[0])*np.sin(theta[2])*np.cos(theta[1]), np.sin(theta[2])*np.sin(theta[1])],\n",
    "                  [(-1)*np.cos(theta[0])*np.sin(theta[2])-np.sin(theta[0])*np.cos(theta[2])*np.cos(theta[1]), (-1)*np.sin(theta[0])*np.sin(theta[2])+np.cos(theta[0])*np.cos(theta[2])*np.cos(theta[1]), np.cos(theta[2])*np.sin(theta[1])],\n",
    "                  [np.sin(theta[0])*np.sin(theta[1]), -np.cos(theta[0])*np.sin(theta[1]), np.cos(theta[1])]])\n",
    "\n",
    "    return g\n",
    "\n",
    "def orientation_matrix(euler1,euler2): #Radians\n",
    "    g_1=eul2orient(euler1)\n",
    "    g_2=eul2orient(euler2)\n",
    "    \n",
    "    orientation_matrix = np.dot(g_1,np.linalg.inv(g_2))\n",
    "    return orientation_matrix\n",
    "\n",
    "def misorientation_angle(orientation_matrix):\n",
    "    cos_mori=(orientation_matrix[0][0]+orientation_matrix[1][1]+orientation_matrix[2][2]-1)/2 #Degrees\n",
    "    misorientation_angle=np.arccos(cos_mori)\n",
    "    misorientation_angle=np.degrees(misorientation_angle)   \n",
    "    return misorientation_angle\n",
    "\n",
    "def symm_mis_angle(euler1,euler2): #Radians\n",
    "    mis_angles=[]\n",
    "    g_1=eul2orient(euler1)\n",
    "    g_2=eul2orient(euler2)\n",
    "    \n",
    "    for sym_op in symm.symmetry_operators('hexagonal'):\n",
    "        \n",
    "        part_1=np.dot(g_2,sym_op)\n",
    "        part_2=np.dot(np.linalg.inv(sym_op),np.linalg.inv(g_1))\n",
    "\n",
    "        orientation_matrix = part_1*part_2\n",
    "        \n",
    "        mis_angle=misorientation_angle(orientation_matrix)\n",
    "        \n",
    "        mis_angles.append(mis_angle)\n",
    "    \n",
    "    return mis_angles\n",
    "\n",
    "def misorientation_angle_2(R1): # From Sabines Code\n",
    "    misang1 = np.arccos(0.5*(R1[0,0]+R1[1,1]+R1[2,2]-1))\n",
    "    \n",
    "    p1 = (R1[2,1]-R1[1,2])/(2*np.sin(misang1))\n",
    "    p2 = (R1[0,2]-R1[2,0])/(2*np.sin(misang1))\n",
    "    p3 = (R1[1,0]-R1[0,1])/(2*np.sin(misang1))\n",
    "\n",
    "    ax = [p1,p2,p3]\n",
    "    ang = misang1\n",
    "    ax = ax/np.linalg.norm(ax)\n",
    "    ang=np.degrees(ang)\n",
    "    return ang, ax\n",
    "\n",
    "def eu2qu(Eul):\n",
    "    \n",
    "    P = -1\n",
    "    \n",
    "    o = (Eul[0]+Eul[2])/2 \n",
    "    d = (Eul[0]-Eul[2])/2\n",
    "    c = np.cos(Eul[1]/2)\n",
    "    s = np.sin(Eul[1]/2)\n",
    "    q = [c*np.cos(o), -P*s*np.cos(d), -P*s*np.sin(d), -P*c*np.sin(o)]\n",
    "\n",
    "    if c*np.cos(o) <0:\n",
    "        q = [-c*np.cos(o), P*s*np.cos(d), P*s*np.sin(d), P*c*np.sin(o)]\n",
    "\n",
    "    else:\n",
    "        q = [c*np.cos(o), -P*s*np.cos(d), -P*s*np.sin(d), -P*c*np.sin(o)]\n",
    "    return q \n",
    "\n",
    "def ax2qu(ax, ang):\n",
    "    q = [np.cos(ang/2), np.sin(ang/2)*ax[0], np.sin(ang/2)*ax[1], np.sin(ang/2)*ax[2]]\n",
    "    \n",
    "    return q"
   ]
  },
  {
   "cell_type": "code",
   "execution_count": 4,
   "metadata": {},
   "outputs": [
    {
     "name": "stdout",
     "output_type": "stream",
     "text": [
      "[[-5.79227965e-01  7.07106781e-01  4.05579788e-01]\n",
      " [-5.79227965e-01 -7.07106781e-01  4.05579788e-01]\n",
      " [ 5.73576436e-01 -3.51214273e-17  8.19152044e-01]]\n"
     ]
    }
   ],
   "source": [
    "#copper=[40,65,26]\n",
    "copper=[90,35,45]\n",
    "S3=[59,37,63]\n",
    "\n",
    "copper=np.deg2rad(copper)\n",
    "S3=np.deg2rad(S3)\n",
    "\n",
    "g1=misorientation.eul2orient(copper)\n",
    "g2=misorientation.eul2orient(S3)\n",
    "\n",
    "g=misorientation.misorientation_matrix(g1,g2)\n",
    "ang_test_f=misorientation.orient2ang(g)\n",
    "\n",
    "test_angles, ang_test=misorientation.symm_mis_angle(copper,S3)\n",
    "print(g1)\n"
   ]
  },
  {
   "cell_type": "code",
   "execution_count": 60,
   "metadata": {},
   "outputs": [
    {
     "name": "stdout",
     "output_type": "stream",
     "text": [
      "60.52229238904178\n",
      "[ 73.67095716  60.52229239  91.83763312 140.09874362 167.98215076\n",
      " 116.99615108 136.25543178 122.10095405 124.47066539 142.33271625\n",
      " 169.2927887  161.44486603]\n",
      "60.52229238904175\n",
      "[ 73.67095716 116.99615108 167.98215076 140.09874362  91.83763312\n",
      "  60.52229239 136.25543178 122.10095405 124.47066539 142.33271625\n",
      " 169.2927887  161.44486603  60.52229239  73.67095716 116.99615108\n",
      " 167.98215076 140.09874362  91.83763312 122.10095405 124.47066539\n",
      " 142.33271625 169.2927887  161.44486603 136.25543178  91.83763312\n",
      "  60.52229239  73.67095716 116.99615108 167.98215076 140.09874362\n",
      " 124.47066539 142.33271625 169.2927887  161.44486603 136.25543178\n",
      " 122.10095405 140.09874362  91.83763312  60.52229239  73.67095716\n",
      " 116.99615108 167.98215076 142.33271625 169.2927887  161.44486603\n",
      " 136.25543178 122.10095405 124.47066539 167.98215076 140.09874362\n",
      "  91.83763312  60.52229239  73.67095716 116.99615108 169.2927887\n",
      " 161.44486603 136.25543178 122.10095405 124.47066539 142.33271625\n",
      " 116.99615108 167.98215076 140.09874362  91.83763312  60.52229239\n",
      "  73.67095716 161.44486603 136.25543178 122.10095405 124.47066539\n",
      " 142.33271625 169.2927887  136.25543178 122.10095405 124.47066539\n",
      " 142.33271625 169.2927887  161.44486603  73.67095716 116.99615108\n",
      " 167.98215076 140.09874362  91.83763312  60.52229239 122.10095405\n",
      " 124.47066539 142.33271625 169.2927887  161.44486603 136.25543178\n",
      "  60.52229239  73.67095716 116.99615108 167.98215076 140.09874362\n",
      "  91.83763312 124.47066539 142.33271625 169.2927887  161.44486603\n",
      " 136.25543178 122.10095405  91.83763312  60.52229239  73.67095716\n",
      " 116.99615108 167.98215076 140.09874362 142.33271625 169.2927887\n",
      " 161.44486603 136.25543178 122.10095405 124.47066539 140.09874362\n",
      "  91.83763312  60.52229239  73.67095716 116.99615108 167.98215076\n",
      " 169.2927887  161.44486603 136.25543178 122.10095405 124.47066539\n",
      " 142.33271625 167.98215076 140.09874362  91.83763312  60.52229239\n",
      "  73.67095716 116.99615108 161.44486603 136.25543178 122.10095405\n",
      " 124.47066539 142.33271625 169.2927887  116.99615108 167.98215076\n",
      " 140.09874362  91.83763312  60.52229239  73.67095716]\n",
      "[ 73.67095716  60.52229239  91.83763312 140.09874362 167.98215076\n",
      " 116.99615108 136.25543178 122.10095405 124.47066539 142.33271625\n",
      " 169.2927887  161.44486603]\n",
      "46.5944662718288\n",
      "46.61\n"
     ]
    }
   ],
   "source": [
    "t_i=10\n",
    "t1=misorientation.eul2orient(eul1[t_i])\n",
    "t2=misorientation.eul2orient(eul2[t_i])\n",
    "\n",
    "def symm_mis_angle_ipynb(euler1, euler2):  # Radians\n",
    "    mis_angles=[] \n",
    "    mis_angles_cubic=[]\n",
    "    g_1 = misorientation.eul2orient(euler1)\n",
    "    g_2 = misorientation.eul2orient(euler2)\n",
    "    g=misorientation.misorientation_matrix(g_1,g_2)\n",
    "    \n",
    "    for sym_op in misorientation.symmetry_operators('hexagonal'):\n",
    "        mis_matrix=np.dot(sym_op,g)\n",
    "        ang, ax = misorientation.orient2ang(mis_matrix)\n",
    "        mis_angles.append(ang)\n",
    "    misang=np.amin(mis_angles)\n",
    "    \n",
    "    for sym_op_c in misorientation.symmetry_operators('cubic'):\n",
    "        mis_matrix_c=np.dot(g,sym_op_c)\n",
    "        ang_c, ax_c = misorientation.orient2ang(mis_matrix_c)\n",
    "        mis_angles_cubic.append(ang_c)\n",
    "    misang_cubic=np.amin(mis_angles_cubic)\n",
    "    \n",
    "    mis_angles_t=[]\n",
    "    for sym_op_total in misorientation.symmetry_operators('hexagonal'):\n",
    "        g1_s=np.dot(sym_op_total,g_1)\n",
    "        for sym_op_total2 in misorientation.symmetry_operators('hexagonal'):\n",
    "            g2_s=np.dot(sym_op_total2,g_2)\n",
    "            g_s=misorientation.misorientation_matrix(g1_s,g2_s)\n",
    "            ang_t, ax_t = misorientation.orient2ang(g_s)\n",
    "            mis_angles_t.append(ang_t)\n",
    "    \n",
    "    return mis_angles, misang, mis_angles_cubic, misang_cubic, mis_angles_t\n",
    "\n",
    "\n",
    "test_angles, ang_test, test_angles_c, ang_test_c, mis_angles_t=symm_mis_angle_ipynb(eul1[t_i],eul2[t_i])\n",
    "\n",
    "print(np.rad2deg(ang_test))\n",
    "print(np.rad2deg(test_angles))\n",
    "print(np.rad2deg(np.amin(mis_angles_t)))\n",
    "print(np.rad2deg(mis_angles_t))\n",
    "print(np.rad2deg(test_angles))\n",
    "print(np.rad2deg(ang_test_c))\n",
    "print(mis_angle[t_i])"
   ]
  },
  {
   "cell_type": "code",
   "execution_count": 61,
   "metadata": {},
   "outputs": [
    {
     "data": {
      "text/plain": [
       "<matplotlib.legend.Legend at 0x7fb638fdf880>"
      ]
     },
     "execution_count": 61,
     "metadata": {},
     "output_type": "execute_result"
    },
    {
     "data": {
      "image/png": "[encoded data removed]",
      "text/plain": [
       "<Figure size 720x504 with 1 Axes>"
      ]
     },
     "metadata": {
      "needs_background": "light"
     },
     "output_type": "display_data"
    }
   ],
   "source": [
    "plt.figure(figsize=(10,7))\n",
    "plt.plot(test_angles,'r*',label='1 sym')\n",
    "plt.plot(mis_angles_t,'gx',label='Both Sym')\n",
    "plt.legend(bbox_to_anchor=(1.05, 1), prop={'size': 12}, loc='upper left', borderaxespad=0.)"
   ]
  },
  {
   "cell_type": "code",
   "execution_count": 64,
   "metadata": {},
   "outputs": [],
   "source": [
    "mis_angle_c=[]\n",
    "mis_angle_h=[]\n",
    "\n",
    "for i,euler in enumerate(eul1):\n",
    "    ang_c=symm_mis_angle_ipynb(eul1[i], eul2[i])[3]\n",
    "    ang_h=symm_mis_angle_ipynb(eul1[i], eul2[i])[1]\n",
    "    mis_angle_c.append(ang_c)\n",
    "    mis_angle_h.append(ang_h)\n",
    "    #return mis_angles, misang, mis_angles_cubic, misang_cubic, mis_angles_t\n",
    "    \n",
    "mis_angle_c=np.rad2deg(mis_angle_c)\n",
    "mis_angle_h=np.rad2deg(mis_angle_h)"
   ]
  },
  {
   "cell_type": "code",
   "execution_count": 72,
   "metadata": {},
   "outputs": [
    {
     "data": {
      "image/png": "[encoded data removed]",
      "text/plain": [
       "<Figure size 720x504 with 1 Axes>"
      ]
     },
     "metadata": {
      "needs_background": "light"
     },
     "output_type": "display_data"
    }
   ],
   "source": [
    "plt.figure(figsize=(10,7))\n",
    "plt.plot(mis_angle[:200],'ro',label='EBSD')\n",
    "plt.plot(mis_angle_c[:200],'gx',label='Cubic_Sym')\n",
    "plt.plot(mis_angle_h[:200],'bx',label='Hexagonal_Sym')\n",
    "plt.legend(bbox_to_anchor=(1.05, 1), prop={'size': 12}, loc='upper left', borderaxespad=0.)\n",
    "#plt.savefig('Misor_CvsH.png' , bbox_inches='tight')"
   ]
  },
  {
   "cell_type": "code",
   "execution_count": 47,
   "metadata": {},
   "outputs": [
    {
     "name": "stdout",
     "output_type": "stream",
     "text": [
      "[[ 0.84012083 -0.52901713 -0.11974088]\n",
      " [ 0.1619201   0.45530501 -0.87548799]\n",
      " [ 0.51766676  0.71612724  0.46816973]]\n",
      "67.55491382528774\n"
     ]
    }
   ],
   "source": [
    "t=misorientation.misorientation_matrix(t1,t2)\n",
    "print(t)\n",
    "t_angle=np.rad2deg(misorientation.orient2ang(t)[0])\n",
    "print(t_angle)"
   ]
  },
  {
   "cell_type": "code",
   "execution_count": 36,
   "metadata": {},
   "outputs": [],
   "source": [
    "misor=[]\n",
    "misor1=[]\n",
    "\n",
    "misor_rad=[]\n",
    "\n",
    "\n",
    "\n",
    "for i,euler in enumerate(eul1):\n",
    "    g1=misorientation.sym_orient(eul1[i])\n",
    "    g2=misorientation.sym_orient(eul2[i])\n",
    "    miso_m=misorientation.misorientation_matrix(g1,g2)\n",
    "    ang, ax=misorientation.orient2ang(miso_m)\n",
    "    misor1.append(np.rad2deg(ang))\n",
    "    \n",
    "    mis_angles, misang=misorientation.symm_mis_angle(eul1[i],eul2[i])\n",
    "    \n",
    "    misor.append(np.rad2deg(misang))\n",
    "    misor_rad.append(misang)\n"
   ]
  },
  {
   "cell_type": "code",
   "execution_count": 37,
   "metadata": {},
   "outputs": [
    {
     "name": "stdout",
     "output_type": "stream",
     "text": [
      "53.92\n",
      "67.63448443210676\n"
     ]
    }
   ],
   "source": [
    "print(mis_angle[t_i])\n",
    "print(misor[t_i])"
   ]
  },
  {
   "cell_type": "code",
   "execution_count": 18,
   "metadata": {},
   "outputs": [
    {
     "name": "stderr",
     "output_type": "stream",
     "text": [
      "<ipython-input-18-cbf49f2859fb>:6: MatplotlibDeprecationWarning: Adding an axes using the same arguments as a previous axes currently reuses the earlier instance.  In a future version, a new instance will always be created and returned.  Meanwhile, this warning can be suppressed, and the future behavior ensured, by passing a unique label to each axes instance.\n",
      "  axes = plt.axes()\n"
     ]
    },
    {
     "data": {
      "text/plain": [
       "<matplotlib.legend.Legend at 0x7fb63ba670a0>"
      ]
     },
     "execution_count": 18,
     "metadata": {},
     "output_type": "execute_result"
    },
    {
     "data": {
      "image/png": "[encoded data removed]",
      "text/plain": [
       "<Figure size 720x504 with 1 Axes>"
      ]
     },
     "metadata": {
      "needs_background": "light"
     },
     "output_type": "display_data"
    }
   ],
   "source": [
    "plt.figure(figsize=(10,7))\n",
    "plt.plot(mis_angle[:200],'r*',label='EBSD')\n",
    "plt.plot(misor[:200],'gx',label='Analytic_1')\n",
    "#plt.plot(misor1[:200],'rx',label='Analytic_eul_sym')\n",
    "\n",
    "axes = plt.axes()\n",
    "axes.set_ylim([0, 60])\n",
    "plt.legend(bbox_to_anchor=(1.05, 1), prop={'size': 12}, loc='upper left', borderaxespad=0.)\n",
    "#plt.savefig('Misorientation.png' , bbox_inches='tight')"
   ]
  },
  {
   "cell_type": "code",
   "execution_count": 14,
   "metadata": {},
   "outputs": [
    {
     "data": {
      "text/plain": [
       "True"
      ]
     },
     "execution_count": 14,
     "metadata": {},
     "output_type": "execute_result"
    }
   ],
   "source": [
    "len(mis_angle)==len(misor1)"
   ]
  },
  {
   "cell_type": "code",
   "execution_count": 24,
   "metadata": {},
   "outputs": [
    {
     "data": {
      "text/plain": [
       "<matplotlib.legend.Legend at 0x7fd0c6189bb0>"
      ]
     },
     "execution_count": 24,
     "metadata": {},
     "output_type": "execute_result"
    },
    {
     "data": {
      "image/png": "[encoded data removed]",
      "text/plain": [
       "<Figure size 720x504 with 1 Axes>"
      ]
     },
     "metadata": {
      "needs_background": "light"
     },
     "output_type": "display_data"
    }
   ],
   "source": [
    "plt.figure(figsize=(10,7))\n",
    "plt.plot(misor[:200],'rx',label='Analytic_1')\n",
    "#axes = plt.axes()\n",
    "plt.legend(bbox_to_anchor=(1.05, 1), prop={'size': 12}, loc='upper left', borderaxespad=0.)"
   ]
  },
  {
   "cell_type": "code",
   "execution_count": 9,
   "metadata": {},
   "outputs": [
    {
     "name": "stdout",
     "output_type": "stream",
     "text": [
      "3.823821967143062\n"
     ]
    }
   ],
   "source": [
    "# Error Value, less than 60 degrees\n",
    "error=[]\n",
    "\n",
    "for i ,angle in enumerate(misor):\n",
    "    if angle<60:\n",
    "        er=(abs(mis_angle[i]-angle)/mis_angle[i])*100\n",
    "        error.append(er)\n",
    "print(np.average(error))"
   ]
  },
  {
   "cell_type": "code",
   "execution_count": 57,
   "metadata": {},
   "outputs": [
    {
     "name": "stderr",
     "output_type": "stream",
     "text": [
      "<ipython-input-57-1a8bd90146fe>:16: RuntimeWarning: divide by zero encountered in double_scalars\n",
      "  inplane = np.pi - np.arctan(nl[1]/nl[0])\n"
     ]
    }
   ],
   "source": [
    "### Find trace angle with respect to shock loading. For data I've got from Veronica\n",
    "### so far, that means the shock loading is in the x-direction TSL Eulerian space. \n",
    "### Therefore, 'run' = y-axis and 'rise' = x-axis. Tan(trace)=rise/run\n",
    "\n",
    "trace_angle=[]\n",
    "for i,data in enumerate(gbdata):\n",
    "    nl = [0,0]\n",
    "    nl[0]=endptsx[i]-staptsx[i]\n",
    "    nl[1]=endptsy[i]-staptsy[i]\n",
    "    \n",
    "\n",
    "    if nl[1]==0:\n",
    "        inplane = np.pi\n",
    "    else:\n",
    "        #inplane = np.arctan(nl[1]/nl[0]) + np.pi/2\n",
    "        inplane = np.pi - np.arctan(nl[1]/nl[0])\n",
    "    \n",
    "    if inplane < 0:\n",
    "        inplane = np.pi + inplane\n",
    "    if inplane > np.pi:\n",
    "        inplane = inplane - np.pi\n",
    "        \n",
    "    ### second trace angle since out of plane is from 0 to 90.\n",
    "    inplane2 = inplane + np.pi\n",
    "    trace_angle.append(np.degrees(inplane))"
   ]
  },
  {
   "cell_type": "code",
   "execution_count": 60,
   "metadata": {},
   "outputs": [
    {
     "name": "stderr",
     "output_type": "stream",
     "text": [
      "/home/estanislao/Documents/ML_GB/GrainLearning/modules/trace_angle.py:14: RuntimeWarning: divide by zero encountered in double_scalars\n",
      "  trace = np.pi - np.arctan(nl[1] / nl[0])\n"
     ]
    }
   ],
   "source": [
    "trace_angle_func=[]\n",
    "\n",
    "for i,data in enumerate(gbdata):\n",
    "    trace_angle_func.append(t_ang.trace_angle(staptsx[i],endptsx[i],staptsy[i],endptsy[i]))\n",
    "    \n",
    "    "
   ]
  },
  {
   "cell_type": "code",
   "execution_count": 61,
   "metadata": {},
   "outputs": [
    {
     "data": {
      "text/plain": [
       "<matplotlib.legend.Legend at 0x7f88b6f6eb20>"
      ]
     },
     "execution_count": 61,
     "metadata": {},
     "output_type": "execute_result"
    },
    {
     "data": {
      "image/png": "[encoded data removed]",
      "text/plain": [
       "<Figure size 720x504 with 1 Axes>"
      ]
     },
     "metadata": {
      "needs_background": "light"
     },
     "output_type": "display_data"
    }
   ],
   "source": [
    "plt.figure(figsize=(10,7))\n",
    "plt.plot(trace[:100],'ro',label='EBSD')\n",
    "#plt.plot(trace_angle[:100],'gx',label='Analytic')\n",
    "plt.plot(trace_angle_func[:100],'gx',label='Analytic_function')\n",
    "plt.legend(bbox_to_anchor=(1.05, 1), prop={'size': 12}, loc='upper left', borderaxespad=0.)\n",
    "#plt.savefig('Trace.png' , bbox_inches='tight')"
   ]
  },
  {
   "cell_type": "code",
   "execution_count": 62,
   "metadata": {},
   "outputs": [],
   "source": [
    "trace_round=np.round(np.array(trace_angle),1)"
   ]
  },
  {
   "cell_type": "code",
   "execution_count": 64,
   "metadata": {},
   "outputs": [
    {
     "ename": "NameError",
     "evalue": "name 'angle' is not defined",
     "output_type": "error",
     "traceback": [
      "\u001b[0;31m---------------------------------------------------------------------------\u001b[0m",
      "\u001b[0;31mNameError\u001b[0m                                 Traceback (most recent call last)",
      "\u001b[0;32m<ipython-input-64-648ee97118b5>\u001b[0m in \u001b[0;36m<module>\u001b[0;34m\u001b[0m\n\u001b[1;32m      3\u001b[0m \u001b[0;34m\u001b[0m\u001b[0m\n\u001b[1;32m      4\u001b[0m \u001b[0;32mfor\u001b[0m \u001b[0mi\u001b[0m \u001b[0;34m,\u001b[0m\u001b[0mtrace_ang\u001b[0m \u001b[0;32min\u001b[0m \u001b[0menumerate\u001b[0m\u001b[0;34m(\u001b[0m\u001b[0mtrace\u001b[0m\u001b[0;34m)\u001b[0m\u001b[0;34m:\u001b[0m\u001b[0;34m\u001b[0m\u001b[0;34m\u001b[0m\u001b[0m\n\u001b[0;32m----> 5\u001b[0;31m     \u001b[0;32mif\u001b[0m \u001b[0mangle\u001b[0m\u001b[0;34m<\u001b[0m\u001b[0;36m60\u001b[0m\u001b[0;34m:\u001b[0m\u001b[0;34m\u001b[0m\u001b[0;34m\u001b[0m\u001b[0m\n\u001b[0m\u001b[1;32m      6\u001b[0m         \u001b[0mer\u001b[0m\u001b[0;34m=\u001b[0m\u001b[0;34m(\u001b[0m\u001b[0mabs\u001b[0m\u001b[0;34m(\u001b[0m\u001b[0mtrace_angle\u001b[0m\u001b[0;34m[\u001b[0m\u001b[0mi\u001b[0m\u001b[0;34m]\u001b[0m\u001b[0;34m-\u001b[0m\u001b[0mtrace_ang\u001b[0m\u001b[0;34m)\u001b[0m\u001b[0;34m/\u001b[0m\u001b[0mtrace_ang\u001b[0m\u001b[0;34m)\u001b[0m\u001b[0;34m*\u001b[0m\u001b[0;36m100\u001b[0m\u001b[0;34m\u001b[0m\u001b[0;34m\u001b[0m\u001b[0m\n\u001b[1;32m      7\u001b[0m         \u001b[0merror_trace\u001b[0m\u001b[0;34m.\u001b[0m\u001b[0mappend\u001b[0m\u001b[0;34m(\u001b[0m\u001b[0mer\u001b[0m\u001b[0;34m)\u001b[0m\u001b[0;34m\u001b[0m\u001b[0;34m\u001b[0m\u001b[0m\n",
      "\u001b[0;31mNameError\u001b[0m: name 'angle' is not defined"
     ]
    }
   ],
   "source": [
    "# Error Value, less than 60 degrees\n",
    "error_trace=[]\n",
    "\n",
    "for i ,trace_ang in enumerate(trace):\n",
    "    if angle<60:\n",
    "        er=(abs(trace_angle[i]-trace_ang)/trace_ang)*100\n",
    "        error_trace.append(er)\n",
    "print(np.average(error_trace))"
   ]
  },
  {
   "cell_type": "code",
   "execution_count": 72,
   "metadata": {},
   "outputs": [
    {
     "name": "stdout",
     "output_type": "stream",
     "text": [
      "59.88626684901748\n",
      "30.0\n"
     ]
    }
   ],
   "source": [
    "print(trace_angle[2])\n",
    "print(trace[2])"
   ]
  },
  {
   "cell_type": "code",
   "execution_count": 69,
   "metadata": {},
   "outputs": [
    {
     "name": "stdout",
     "output_type": "stream",
     "text": [
      "[1.0, 0.5700000000000003]\n",
      "150.3168598208767\n"
     ]
    }
   ],
   "source": [
    "nl = [0,0]\n",
    "nl[0]=endptsx[1]-staptsx[1]\n",
    "nl[1]=endptsy[1]-staptsy[1]\n",
    "print(nl)\n",
    "print(np.degrees(np.pi-np.arctan(nl[1]/nl[0])))"
   ]
  },
  {
   "cell_type": "code",
   "execution_count": 2,
   "metadata": {},
   "outputs": [
    {
     "ename": "NameError",
     "evalue": "name 'python' is not defined",
     "output_type": "error",
     "traceback": [
      "\u001b[0;31m---------------------------------------------------------------------------\u001b[0m",
      "\u001b[0;31mNameError\u001b[0m                                 Traceback (most recent call last)",
      "\u001b[0;32m<ipython-input-2-32886514c262>\u001b[0m in \u001b[0;36m<module>\u001b[0;34m\u001b[0m\n\u001b[0;32m----> 1\u001b[0;31m \u001b[0mpython\u001b[0m\u001b[0;34m\u001b[0m\u001b[0;34m\u001b[0m\u001b[0m\n\u001b[0m",
      "\u001b[0;31mNameError\u001b[0m: name 'python' is not defined"
     ]
    }
   ],
   "source": []
  }
 ],
 "metadata": {
  "kernelspec": {
   "display_name": "Python 3",
   "language": "python",
   "name": "python3"
  },
  "language_info": {
   "codemirror_mode": {
    "name": "ipython",
    "version": 3
   },
   "file_extension": ".py",
   "mimetype": "text/x-python",
   "name": "python",
   "nbconvert_exporter": "python",
   "pygments_lexer": "ipython3",
   "version": "3.8.5"
  }
 },
 "nbformat": 4,
 "nbformat_minor": 4
}
