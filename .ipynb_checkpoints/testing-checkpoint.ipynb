{
 "cells": [
  {
   "cell_type": "code",
   "execution_count": 1,
   "metadata": {},
   "outputs": [],
   "source": [
    "import cv2\n",
    "import numpy as np\n",
    "import matplotlib.pyplot as plt\n",
    "import pandas as pd\n",
    "from matplotlib.patches import Circle\n",
    "import os.path\n",
    "import seaborn as sns\n",
    "from scipy import stats\n",
    "\n",
    "\n",
    "# Custom modules\n",
    "from modules import voiddetect as vd\n",
    "from modules import select_voidboundaries as sel\n",
    "from modules import void_analysis as voidanlys\n",
    "from modules import mis_trace_dataset as voiddataset\n",
    "from modules import gbvoid_dataset as gbvoid"
   ]
  },
  {
   "cell_type": "code",
   "execution_count": 2,
   "metadata": {},
   "outputs": [],
   "source": [
    "inputs = ['1_001', '1_002', '1_003', '1_004', '1_005', '1_006', '1_007', '1_008', '1_009', '1_010',\n",
    "          '2_001', '2_002', '2_003', '2_004', '2_005', '2_006', '2_007', '2_008', '2_009',\n",
    "          '3_001', '3_002', '3_003', '3_004', '3_005', '3_006', '3_007', '3_008', '3_009', '3_010',\n",
    "          '4_001', '4_002', '4_003', '4_004', '4_005', '4_007', '4_008', '4_009',\n",
    "          '5_001', '5_002', '5_003', '5_004', '5_005', '5_006', '5_007', '5_008', '5_009', '5_010', '5_011',\n",
    "          '6_001', '6_002', '6_003', '6_004', '6_005', '6_006', '6_007', '6_008', '6_009']\n",
    "\n",
    "#name=['1_001']"
   ]
  },
  {
   "cell_type": "code",
   "execution_count": 3,
   "metadata": {},
   "outputs": [],
   "source": [
    "#class GB:\n",
    "    #__init__(self, x):\n",
    "        #self.x = x\n",
    "        \n",
    "    #func computeEnergy():\n",
    "        #return x*2\n",
    "        \n",
    "#mygb = GB(x=3)\n",
    "\n",
    "#mygb.computeEnergy()"
   ]
  },
  {
   "cell_type": "code",
   "execution_count": 21,
   "metadata": {},
   "outputs": [],
   "source": [
    "columns_void=['phi1_right','PHI_right','phi2_right','phi1_left','PHI_left','phi2_left',\n",
    "         'Misorientation Angle','Mis. X in Right Hand Grain','Mis. Y in Right Hand Grain', 'Mis. Z in Right Hand Grain',\n",
    "         'Mis. X in Right Hand Grain','Mis. Y in Right Hand Grain','Mis. Z in Right Hand Grain',\n",
    "         'Lenght','Trace', 'X start', 'Y start', 'X end','Y end','ID Right Grain', 'ID Left Grain', 'Void']\n",
    "\n",
    "\n",
    "data=[]\n",
    "for name in inputs:\n",
    "    void_dataset_temp = gbvoid.gbvoid_dataset(name)\n",
    "    data.append(void_dataset_temp)\n",
    "void_dataset=pd.concat(data, ignore_index='True')\n",
    "void_dataset.columns=columns_void\n"
   ]
  },
  {
   "cell_type": "code",
   "execution_count": 22,
   "metadata": {},
   "outputs": [
    {
     "name": "stdout",
     "output_type": "stream",
     "text": [
      "        phi1_right  PHI_right  phi2_right  phi1_left  PHI_left  phi2_left  \\\n",
      "0            0.180      0.250       6.179      5.039     0.678      1.946   \n",
      "1            0.180      0.250       6.179      6.066     0.356      0.319   \n",
      "2            3.511      0.204       2.663      6.066     0.356      0.319   \n",
      "3            3.315      0.286       2.941      3.511     0.204      2.663   \n",
      "4            0.204      0.220       6.190      2.959     0.506      3.541   \n",
      "...            ...        ...         ...        ...       ...        ...   \n",
      "197299       3.257      0.750       3.106      3.752     0.943      2.148   \n",
      "197300       6.134      0.786       0.112      3.244     0.739      3.119   \n",
      "197301       3.244      0.739       3.119      6.254     0.203      0.025   \n",
      "197302       2.744      0.476       3.606      1.630     0.494      5.410   \n",
      "197303       0.026      0.684       6.028      6.242     0.778      6.048   \n",
      "\n",
      "        Misorientation Angle  Mis. X in Right Hand Grain  \\\n",
      "0                      55.90                         5.0   \n",
      "1                       9.33                       -14.0   \n",
      "2                      32.61                       -26.0   \n",
      "3                       7.38                       -21.0   \n",
      "4                      41.18                        17.0   \n",
      "...                      ...                         ...   \n",
      "197299                 42.76                        -1.0   \n",
      "197300                 10.13                        -9.0   \n",
      "197301                 36.44                        15.0   \n",
      "197302                 52.36                        -5.0   \n",
      "197303                  6.20                       -24.0   \n",
      "\n",
      "        Mis. Y in Right Hand Grain  Mis. Z in Right Hand Grain  ...  \\\n",
      "0                             11.0                       -12.0  ...   \n",
      "1                             20.0                        -7.0  ...   \n",
      "2                              0.0                        -9.0  ...   \n",
      "3                              4.0                        20.0  ...   \n",
      "4                             -4.0                        -2.0  ...   \n",
      "...                            ...                         ...  ...   \n",
      "197299                        17.0                        25.0  ...   \n",
      "197300                       -25.0                       -10.0  ...   \n",
      "197301                        -2.0                         1.0  ...   \n",
      "197302                        -8.0                        14.0  ...   \n",
      "197303                         5.0                         7.0  ...   \n",
      "\n",
      "        Mis. Z in Right Hand Grain  Lenght  Trace  X start  Y start  X end  \\\n",
      "0                            -12.0   2.000  180.0      0.0     1.15    2.0   \n",
      "1                             -7.0   1.155  150.0      0.0     9.24    1.0   \n",
      "2                             -9.0   1.155   30.0      0.0    28.87    1.0   \n",
      "3                             20.0   1.155   30.0      0.0    56.58    1.0   \n",
      "4                             -2.0   1.155  150.0      0.0    81.98    1.0   \n",
      "...                            ...     ...    ...      ...      ...    ...   \n",
      "197299                        25.0   1.155   30.0    778.0   430.70  779.0   \n",
      "197300                       -10.0   2.000   60.0    778.0   435.32  779.0   \n",
      "197301                         1.0   2.000  120.0    778.0   435.32  779.0   \n",
      "197302                        14.0   1.155  150.0    778.0   705.52  779.0   \n",
      "197303                         7.0   3.464   90.0    779.0  1032.88  779.0   \n",
      "\n",
      "          Y end  ID Right Grain  ID Left Grain  Void  \n",
      "0          1.15            32.0            1.0   0.0  \n",
      "1          9.81            32.0           45.0   0.0  \n",
      "2         28.29            84.0           45.0   0.0  \n",
      "3         56.00           149.0           84.0   0.0  \n",
      "4         82.56           159.0          185.0   0.0  \n",
      "...         ...             ...            ...   ...  \n",
      "197299   430.13           659.0          570.0   0.0  \n",
      "197300   433.59           658.0          663.0   0.0  \n",
      "197301   437.05           663.0          664.0   0.0  \n",
      "197302   706.10           965.0          976.0   0.0  \n",
      "197303  1036.34          1176.0         1228.0   0.0  \n",
      "\n",
      "[197304 rows x 22 columns]\n"
     ]
    }
   ],
   "source": [
    "print(void_dataset)"
   ]
  },
  {
   "cell_type": "code",
   "execution_count": null,
   "metadata": {},
   "outputs": [],
   "source": [
    "X_void, Y_void=voiddataset.mis_trace_dataset('1_001')\n",
    "\n",
    "print(type(X_void))\n",
    "print(type(Y_void))\n",
    "print('---------')\n",
    "\n",
    "#print(np.concatenate((X_void,Y_void.T)),axis=0)\n",
    "\n",
    "#print(np.append((X_void, Y_void)))\n",
    "\n",
    "print(X_void.shape)\n",
    "print(Y_void.shape)\n",
    "\n",
    "#data_set_void=np.concatenate(X_void,Y_void)\n",
    "\n",
    "#np.concatenate((a, b.T), axis=1)"
   ]
  },
  {
   "cell_type": "code",
   "execution_count": null,
   "metadata": {},
   "outputs": [],
   "source": [
    "# Define pa_pic\n",
    "#trace_angle, mis_angle, void_Y = voidanlys.void_analysis(name, pa_pic, gbdata, selected_data)"
   ]
  },
  {
   "cell_type": "code",
   "execution_count": null,
   "metadata": {},
   "outputs": [],
   "source": [
    "void_trace=[]\n",
    "for i, gbinfo in enumerate(gbdata):\n",
    "    if i in selected_data:\n",
    "        void_trace.append(trace_angle[i])\n",
    "        \n",
    "df = pd.Series(void_trace)\n",
    "df"
   ]
  },
  {
   "cell_type": "code",
   "execution_count": null,
   "metadata": {},
   "outputs": [],
   "source": [
    "df.mean()"
   ]
  },
  {
   "cell_type": "code",
   "execution_count": null,
   "metadata": {},
   "outputs": [],
   "source": [
    "plt.plot(df,'ro')"
   ]
  },
  {
   "cell_type": "code",
   "execution_count": null,
   "metadata": {},
   "outputs": [],
   "source": [
    "sns.distplot(df);"
   ]
  },
  {
   "cell_type": "code",
   "execution_count": null,
   "metadata": {},
   "outputs": [],
   "source": [
    "sns.distplot(df, kde=False, fit=stats.gamma);"
   ]
  },
  {
   "cell_type": "code",
   "execution_count": null,
   "metadata": {},
   "outputs": [],
   "source": [
    "# Create linear regression object\n",
    "regr = linear_model.LinearRegression()\n",
    "\n",
    "# Train the model using the training sets\n",
    "regr.fit(df, diabetes_y_train)\n",
    "\n",
    "# Make predictions using the testing set\n",
    "diabetes_y_pred = regr.predict(diabetes_X_test)\n",
    "\n",
    "# The coefficients\n",
    "print('Coefficients: \\n', regr.coef_)\n",
    "# The mean squared error\n",
    "print('Mean squared error: %.2f'\n",
    "      % mean_squared_error(diabetes_y_test, diabetes_y_pred))\n",
    "# The coefficient of determination: 1 is perfect prediction\n",
    "print('Coefficient of determination: %.2f'\n",
    "      % r2_score(diabetes_y_test, diabetes_y_pred))\n",
    "\n",
    "# Plot outputs\n",
    "plt.scatter(diabetes_X_test, diabetes_y_test,  color='black')\n",
    "plt.plot(diabetes_X_test, diabetes_y_pred, color='blue', linewidth=3)\n",
    "\n",
    "plt.xticks(())\n",
    "plt.yticks(())\n",
    "\n",
    "plt.show()"
   ]
  }
 ],
 "metadata": {
  "kernelspec": {
   "display_name": "Python 3",
   "language": "python",
   "name": "python3"
  },
  "language_info": {
   "codemirror_mode": {
    "name": "ipython",
    "version": 3
   },
   "file_extension": ".py",
   "mimetype": "text/x-python",
   "name": "python",
   "nbconvert_exporter": "python",
   "pygments_lexer": "ipython3",
   "version": "3.7.3"
  }
 },
 "nbformat": 4,
 "nbformat_minor": 4
}
