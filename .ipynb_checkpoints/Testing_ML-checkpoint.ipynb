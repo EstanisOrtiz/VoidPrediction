{
 "cells": [
  {
   "cell_type": "code",
   "execution_count": 1,
   "metadata": {},
   "outputs": [],
   "source": [
    "#https://towardsdatascience.com/how-to-create-your-first-machine-learning-model-4c8f745e4b8c"
   ]
  },
  {
   "cell_type": "code",
   "execution_count": 8,
   "metadata": {},
   "outputs": [],
   "source": [
    "import numpy as np\n",
    "import matplotlib.pyplot as plt\n",
    "import pandas as pd\n",
    "from sklearn.model_selection import train_test_split\n",
    "\n",
    "\n",
    "from modules import gbvoid_dataset as gbvoid"
   ]
  },
  {
   "cell_type": "code",
   "execution_count": 2,
   "metadata": {},
   "outputs": [],
   "source": [
    "inputs = ['1_001', '1_002', '1_003', '1_004', '1_005', '1_006', '1_007', '1_008', '1_009', '1_010',\n",
    "          '2_001', '2_002', '2_003', '2_004', '2_005', '2_006', '2_007', '2_008', '2_009',\n",
    "          '3_001', '3_002', '3_003', '3_004', '3_005', '3_006', '3_007', '3_008', '3_009', '3_010',\n",
    "          '4_001', '4_002', '4_003', '4_004', '4_005', '4_007', '4_008', '4_009',\n",
    "          '5_001', '5_002', '5_003', '5_004', '5_005', '5_006', '5_007', '5_008', '5_009', '5_010', '5_011',\n",
    "          '6_001', '6_002', '6_003', '6_004', '6_005', '6_006', '6_007', '6_008', '6_009']"
   ]
  },
  {
   "cell_type": "code",
   "execution_count": 3,
   "metadata": {},
   "outputs": [],
   "source": [
    "# DATA\n",
    "\n",
    "columns_void=['phi1_right','PHI_right','phi2_right','phi1_left','PHI_left','phi2_left',\n",
    "         'Misorientation Angle','Mis. X in Right Hand Grain','Mis. Y in Right Hand Grain', 'Mis. Z in Right Hand Grain',\n",
    "         'Mis. X in Right Hand Grain','Mis. Y in Right Hand Grain','Mis. Z in Right Hand Grain',\n",
    "         'Lenght','Trace', 'X start', 'Y start', 'X end','Y end','ID Right Grain', 'ID Left Grain', 'Void']\n",
    "\n",
    "columns_drop=['ID Right Grain','ID Left Grain']\n",
    "\n",
    "# Collect all txt data\n",
    "data=[]\n",
    "for name in inputs:\n",
    "    void_dataset_temp = gbvoid.gbvoid_dataset(name)\n",
    "    data.append(void_dataset_temp)\n",
    "void_dataset=pd.concat(data, ignore_index='True')\n",
    "void_dataset.columns=columns_void\n",
    "\n",
    "# Drop ID grain form the dataset\n",
    "void_dataset=void_dataset.drop(columns_drop, axis=1)"
   ]
  },
  {
   "cell_type": "code",
   "execution_count": 4,
   "metadata": {},
   "outputs": [
    {
     "name": "stdout",
     "output_type": "stream",
     "text": [
      "1979\n",
      "195325\n",
      "1.013183156277998 %\n"
     ]
    }
   ],
   "source": [
    "number_voids=void_dataset.query('Void == \"1.0\"').Void.count()\n",
    "number_no_voids=void_dataset.query('Void == \"0.0\"').Void.count()\n",
    "print(number_voids)\n",
    "print(number_no_voids)\n",
    "rate_void=(number_voids/number_no_voids)*100\n",
    "print(rate_void,'%')\n",
    "#void_dataset.loc[void_dataset.Void=='1.0','Void'].count()\n",
    "#len(void_dataset[void_dataset['Void']=='1.0'])"
   ]
  },
  {
   "cell_type": "code",
   "execution_count": 5,
   "metadata": {},
   "outputs": [
    {
     "data": {
      "text/html": [
       "<div>\n",
       "<style scoped>\n",
       "    .dataframe tbody tr th:only-of-type {\n",
       "        vertical-align: middle;\n",
       "    }\n",
       "\n",
       "    .dataframe tbody tr th {\n",
       "        vertical-align: top;\n",
       "    }\n",
       "\n",
       "    .dataframe thead th {\n",
       "        text-align: right;\n",
       "    }\n",
       "</style>\n",
       "<table border=\"1\" class=\"dataframe\">\n",
       "  <thead>\n",
       "    <tr style=\"text-align: right;\">\n",
       "      <th></th>\n",
       "      <th>phi1_right</th>\n",
       "      <th>PHI_right</th>\n",
       "      <th>phi2_right</th>\n",
       "      <th>phi1_left</th>\n",
       "      <th>PHI_left</th>\n",
       "      <th>phi2_left</th>\n",
       "      <th>Misorientation Angle</th>\n",
       "      <th>Mis. X in Right Hand Grain</th>\n",
       "      <th>Mis. Y in Right Hand Grain</th>\n",
       "      <th>Mis. Z in Right Hand Grain</th>\n",
       "      <th>Mis. X in Right Hand Grain</th>\n",
       "      <th>Mis. Y in Right Hand Grain</th>\n",
       "      <th>Mis. Z in Right Hand Grain</th>\n",
       "      <th>Lenght</th>\n",
       "      <th>Trace</th>\n",
       "      <th>X start</th>\n",
       "      <th>Y start</th>\n",
       "      <th>X end</th>\n",
       "      <th>Y end</th>\n",
       "    </tr>\n",
       "    <tr>\n",
       "      <th>Void</th>\n",
       "      <th></th>\n",
       "      <th></th>\n",
       "      <th></th>\n",
       "      <th></th>\n",
       "      <th></th>\n",
       "      <th></th>\n",
       "      <th></th>\n",
       "      <th></th>\n",
       "      <th></th>\n",
       "      <th></th>\n",
       "      <th></th>\n",
       "      <th></th>\n",
       "      <th></th>\n",
       "      <th></th>\n",
       "      <th></th>\n",
       "      <th></th>\n",
       "      <th></th>\n",
       "      <th></th>\n",
       "      <th></th>\n",
       "    </tr>\n",
       "  </thead>\n",
       "  <tbody>\n",
       "    <tr>\n",
       "      <th>0.0</th>\n",
       "      <td>2.993564</td>\n",
       "      <td>0.541945</td>\n",
       "      <td>3.291484</td>\n",
       "      <td>2.990680</td>\n",
       "      <td>0.540680</td>\n",
       "      <td>3.294596</td>\n",
       "      <td>38.734457</td>\n",
       "      <td>-0.037573</td>\n",
       "      <td>-0.056270</td>\n",
       "      <td>0.010905</td>\n",
       "      <td>-0.037573</td>\n",
       "      <td>-0.056270</td>\n",
       "      <td>0.010905</td>\n",
       "      <td>15.528026</td>\n",
       "      <td>94.717469</td>\n",
       "      <td>485.562862</td>\n",
       "      <td>524.841783</td>\n",
       "      <td>496.882544</td>\n",
       "      <td>525.504727</td>\n",
       "    </tr>\n",
       "    <tr>\n",
       "      <th>1.0</th>\n",
       "      <td>3.002167</td>\n",
       "      <td>0.553098</td>\n",
       "      <td>3.235250</td>\n",
       "      <td>3.074689</td>\n",
       "      <td>0.556421</td>\n",
       "      <td>3.180379</td>\n",
       "      <td>36.208050</td>\n",
       "      <td>-0.095503</td>\n",
       "      <td>-0.277413</td>\n",
       "      <td>0.203133</td>\n",
       "      <td>-0.095503</td>\n",
       "      <td>-0.277413</td>\n",
       "      <td>0.203133</td>\n",
       "      <td>14.812751</td>\n",
       "      <td>95.769378</td>\n",
       "      <td>471.294088</td>\n",
       "      <td>481.898979</td>\n",
       "      <td>482.550783</td>\n",
       "      <td>482.651475</td>\n",
       "    </tr>\n",
       "  </tbody>\n",
       "</table>\n",
       "</div>"
      ],
      "text/plain": [
       "      phi1_right  PHI_right  phi2_right  phi1_left  PHI_left  phi2_left  \\\n",
       "Void                                                                      \n",
       "0.0     2.993564   0.541945    3.291484   2.990680  0.540680   3.294596   \n",
       "1.0     3.002167   0.553098    3.235250   3.074689  0.556421   3.180379   \n",
       "\n",
       "      Misorientation Angle  Mis. X in Right Hand Grain  \\\n",
       "Void                                                     \n",
       "0.0              38.734457                   -0.037573   \n",
       "1.0              36.208050                   -0.095503   \n",
       "\n",
       "      Mis. Y in Right Hand Grain  Mis. Z in Right Hand Grain  \\\n",
       "Void                                                           \n",
       "0.0                    -0.056270                    0.010905   \n",
       "1.0                    -0.277413                    0.203133   \n",
       "\n",
       "      Mis. X in Right Hand Grain  Mis. Y in Right Hand Grain  \\\n",
       "Void                                                           \n",
       "0.0                    -0.037573                   -0.056270   \n",
       "1.0                    -0.095503                   -0.277413   \n",
       "\n",
       "      Mis. Z in Right Hand Grain     Lenght      Trace     X start  \\\n",
       "Void                                                                 \n",
       "0.0                     0.010905  15.528026  94.717469  485.562862   \n",
       "1.0                     0.203133  14.812751  95.769378  471.294088   \n",
       "\n",
       "         Y start       X end       Y end  \n",
       "Void                                      \n",
       "0.0   524.841783  496.882544  525.504727  \n",
       "1.0   481.898979  482.550783  482.651475  "
      ]
     },
     "execution_count": 5,
     "metadata": {},
     "output_type": "execute_result"
    }
   ],
   "source": [
    "void_dataset.groupby('Void').mean()"
   ]
  },
  {
   "cell_type": "code",
   "execution_count": 12,
   "metadata": {},
   "outputs": [],
   "source": [
    "# Test Train Split - Random Split 90% Training and 10% Test\n",
    "\n",
    "X_train, X_test, y_train, y_test = train_test_split(void_dataset.drop('Void', axis=1),void_dataset['Void'], test_size=0.10, random_state=0)"
   ]
  },
  {
   "cell_type": "code",
   "execution_count": 10,
   "metadata": {},
   "outputs": [],
   "source": [
    "# Baseline Model \n",
    "\n",
    "#In the code below I have trained a dummy classifier that always predicts the most frequently occurring class.\n",
    "#The dummy classifier, however, has a number of different methods for this.\n",
    "#The accuracy score is 0.44. A perfect accuracy score would be 1.0.\n",
    "#Now moving through the next stages we will know if we are making an improvement on this baseline.\n",
    "\n",
    "from sklearn.dummy import DummyClassifier\n",
    "from sklearn.metrics import accuracy_score"
   ]
  },
  {
   "cell_type": "code",
   "execution_count": 13,
   "metadata": {},
   "outputs": [
    {
     "name": "stdout",
     "output_type": "stream",
     "text": [
      "0.9891\n"
     ]
    }
   ],
   "source": [
    "baseline = DummyClassifier(strategy='most_frequent', random_state=0).fit(X_train, y_train)\n",
    "y_pred = baseline.predict(X_test)\n",
    "print(round(accuracy_score(y_test, y_pred),4))"
   ]
  },
  {
   "cell_type": "code",
   "execution_count": 14,
   "metadata": {},
   "outputs": [],
   "source": [
    "# Model Selection\n",
    "from sklearn.metrics import accuracy_score, log_loss\n",
    "from sklearn.neighbors import KNeighborsClassifier\n",
    "from sklearn.svm import SVC, LinearSVC, NuSVC\n",
    "from sklearn.tree import DecisionTreeClassifier\n",
    "from sklearn.ensemble import RandomForestClassifier, AdaBoostClassifier, GradientBoostingClassifier\n",
    "from sklearn.discriminant_analysis import LinearDiscriminantAnalysis\n",
    "from sklearn.discriminant_analysis import QuadraticDiscriminantAnalysis"
   ]
  },
  {
   "cell_type": "code",
   "execution_count": null,
   "metadata": {},
   "outputs": [],
   "source": [
    "classifiers = [\n",
    "    KNeighborsClassifier(3),\n",
    "    SVC(kernel=\"rbf\", C=0.025, probability=True),\n",
    "    NuSVC(probability=True),\n",
    "    DecisionTreeClassifier(),\n",
    "    RandomForestClassifier(),\n",
    "    AdaBoostClassifier(),\n",
    "    GradientBoostingClassifier()\n",
    "    ]"
   ]
  },
  {
   "cell_type": "code",
   "execution_count": 16,
   "metadata": {},
   "outputs": [
    {
     "name": "stdout",
     "output_type": "stream",
     "text": [
      "KNeighborsClassifier(algorithm='auto', leaf_size=30, metric='minkowski',\n",
      "                     metric_params=None, n_jobs=None, n_neighbors=3, p=2,\n",
      "                     weights='uniform')\n",
      "model score: 0.988\n"
     ]
    }
   ],
   "source": [
    "#KneighborsClassifier\n",
    "classifier=KNeighborsClassifier(3)\n",
    "model = classifier.fit(X_train, y_train)\n",
    "print(classifier)\n",
    "print(\"model score: %.3f\" % model.score(X_test, y_test))"
   ]
  },
  {
   "cell_type": "code",
   "execution_count": null,
   "metadata": {},
   "outputs": [],
   "source": [
    "# SVC - Support Vector Classification\n",
    "classifier=SVC(kernel=\"rbf\", C=0.025, probability=True)\n",
    "model = classifier.fit(X_train, y_train)\n",
    "print(classifier)\n",
    "print(\"model score: %.3f\" % model.score(X_test, y_test))"
   ]
  },
  {
   "cell_type": "code",
   "execution_count": null,
   "metadata": {},
   "outputs": [],
   "source": [
    "#NuSVC - Support Vector Classification\n",
    "classifier=NuSVC(probability=True)\n",
    "model = classifier.fit(X_train, y_train)\n",
    "print(classifier)\n",
    "print(\"model score: %.3f\" % model.score(X_test, y_test))"
   ]
  },
  {
   "cell_type": "code",
   "execution_count": null,
   "metadata": {},
   "outputs": [],
   "source": [
    "# Decision Tree Classifier\n",
    "classifier=DecisionTreeClassifier()\n",
    "model = classifier.fit(X_train, y_train)\n",
    "print(classifier)\n",
    "print(\"model score: %.3f\" % model.score(X_test, y_test))"
   ]
  },
  {
   "cell_type": "code",
   "execution_count": null,
   "metadata": {},
   "outputs": [],
   "source": [
    "# Random Forest Classifier\n",
    "classifier=RandomForestClassifier()\n",
    "model = classifier.fit(X_train, y_train)\n",
    "print(classifier)\n",
    "print(\"model score: %.3f\" % model.score(X_test, y_test))"
   ]
  },
  {
   "cell_type": "code",
   "execution_count": null,
   "metadata": {},
   "outputs": [],
   "source": [
    "# Ada Boost Classifier\n",
    "classifier=AdaBoostClassifier()\n",
    "model = classifier.fit(X_train, y_train)\n",
    "print(classifier)\n",
    "print(\"model score: %.3f\" % model.score(X_test, y_test))"
   ]
  },
  {
   "cell_type": "code",
   "execution_count": null,
   "metadata": {},
   "outputs": [],
   "source": [
    "# Gradient Boosting Classifier\n",
    "classifier=GradientBoostingClassifier()\n",
    "model = classifier.fit(X_train, y_train)\n",
    "print(classifier)\n",
    "print(\"model score: %.3f\" % model.score(X_test, y_test))"
   ]
  }
 ],
 "metadata": {
  "kernelspec": {
   "display_name": "Python 3",
   "language": "python",
   "name": "python3"
  },
  "language_info": {
   "codemirror_mode": {
    "name": "ipython",
    "version": 3
   },
   "file_extension": ".py",
   "mimetype": "text/x-python",
   "name": "python",
   "nbconvert_exporter": "python",
   "pygments_lexer": "ipython3",
   "version": "3.7.3"
  }
 },
 "nbformat": 4,
 "nbformat_minor": 4
}
