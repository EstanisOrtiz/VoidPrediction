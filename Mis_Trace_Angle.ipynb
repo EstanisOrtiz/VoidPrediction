{
 "cells": [
  {
   "cell_type": "code",
   "execution_count": 19,
   "metadata": {},
   "outputs": [],
   "source": [
    "import numpy as np\n",
    "import matplotlib.pyplot as plt\n",
    "#import pandas as pd\n",
    "import os.path \n",
    "import math \n",
    "import cv2\n",
    "\n",
    "\n",
    "from modules import voiddetect as vd\n",
    "from modules import select_voidboundaries as sel\n",
    "from modules import calcs_all as calcs\n",
    "from modules import conversions as convs"
   ]
  },
  {
   "cell_type": "code",
   "execution_count": 20,
   "metadata": {},
   "outputs": [
    {
     "name": "stdout",
     "output_type": "stream",
     "text": [
      "1_001\n"
     ]
    }
   ],
   "source": [
    "# Column 1-3:   right hand average orientation (phi1, PHI, phi2 in radians)\n",
    "# Column 4-6:   left hand average orientation (phi1, PHI, phi2 in radians)\n",
    "# Column 7:     Misorientation Angle\n",
    "# Column 8-10:  Misorientation Axis in Right Hand grain\n",
    "# Column 11-13: Misorientation Axis in Left Hand grain\n",
    "# Column 14:    length (in microns)\n",
    "# Column 15:    trace angle (in degrees)\n",
    "# Column 16-19: x,y coordinates of endpoints (in microns)\n",
    "# Column 20-21: IDs of right hand and left hand grains\n",
    "\n",
    "inputs = ['1_001', '1_002', '1_003', '1_004', '1_005', '1_006', '1_007', '1_008', '1_009', '1_010',\n",
    "          '2_001', '2_002', '2_003', '2_004', '2_005', '2_006', '2_007', '2_008', '2_009',\n",
    "          '3_001', '3_002', '3_003', '3_004', '3_005', '3_006', '3_007', '3_008', '3_009', '3_010',\n",
    "          '4_001', '4_002', '4_003', '4_004', '4_005', '4_007', '4_008', '4_009',\n",
    "          '5_001', '5_002', '5_003', '5_004', '5_005', '5_006', '5_007', '5_008', '5_009', '5_010', '5_011',\n",
    "          '6_001', '6_002', '6_003', '6_004', '6_005', '6_006', '6_007', '6_008', '6_009', '6_010']\n",
    "\n",
    "#inputs= ['1_001']\n",
    "\n",
    "for name in inputs:\n",
    "    print(name)\n",
    "    lattice = 'bcc'\n",
    "    # lattice = raw_input(\"\\n\\nCrystal Structure\\nIndicate crystal structure.\\nType one of the options fcc/bcc/hcp as shown: \")\n",
    "\n",
    "    ### get current directory\n",
    "    pa_current = os.getcwd()\n",
    "    pa_parent = os.path.dirname(pa_current)\n",
    "\n",
    "    # define paths for convenience\n",
    "    pa_pic = pa_current + '/pyinputs/' + name + '.jpg'\n",
    "    pa_txt = pa_current + '/pyinputs/' + name + '.txt'\n",
    "    pa_selected = pa_current + '/saboutputs/' + name + '/' + 'selected.txt'\n",
    "\n",
    "    ### Read data from text file\n",
    "    gbdata = np.genfromtxt(pa_txt)\n",
    "    selected_data = np.genfromtxt(pa_selected)\n",
    "    width = np.amax(gbdata[:, 17])\n",
    "    height = np.amax(gbdata[:, 18])\n",
    "    \n",
    "    ### Starting points\n",
    "    staptsx = gbdata[:, 15]\n",
    "    staptsy = gbdata[:, 16]\n",
    "    #### Ending points\n",
    "    endptsx = gbdata[:, 17]\n",
    "    endptsy = gbdata[:, 18]\n",
    "    mis_angle = gbdata[:,6]\n",
    "    trace=gbdata[:,14]\n",
    "    #### Euler values\n",
    "    eul1 = gbdata[:,(0,1,2)]\n",
    "    eul2 = gbdata[:,(3,4,5)]\n",
    "    \n",
    "    \n",
    "\n",
    "    \n",
    "    \n",
    "    # Find dimensions for picture\n",
    "    width = np.amax(gbdata[:, 17])\n",
    "    height = np.amax(gbdata[:, 18])\n",
    "    # Column 20-21: IDs of right hand and left hand grains\n",
    "    lhgrain=gbdata[:, 19]\n",
    "    rhgrain=gbdata[:, 20]    \n",
    "        \n",
    "    # define maximum void area as a multiple of average grain size (last number is factor of multiplication)\n",
    "    maxarea = width * height / np.amax(gbdata[:, 20]) * 2.5\n",
    "\n",
    "    ### run voiddetect module and return centers and radii of detected voids\n",
    "    centers, radii, vheight, voidimage, drawing = vd.findvoid(pa_pic, name, maxarea)\n",
    "\n",
    "    ### Select boundaries in void vicinity\n",
    "    selected = sel.selgb(gbdata, centers, radii)\n",
    "    break"
   ]
  },
  {
   "cell_type": "code",
   "execution_count": 14,
   "metadata": {},
   "outputs": [],
   "source": [
    "def rot2eul(R):\n",
    "    beta = -np.arcsin(R[2,0])\n",
    "    alpha = np.arctan2(R[2,1]/np.cos(beta),R[2,2]/np.cos(beta))\n",
    "    gamma = np.arctan2(R[1,0]/np.cos(beta),R[0,0]/np.cos(beta))\n",
    "    return np.array((alpha, beta, gamma))\n",
    "\n",
    "def eul2rot(theta):\n",
    "    R = np.array([[np.cos(theta[1])*np.cos(theta[2]),       np.sin(theta[0])*np.sin(theta[1])*np.cos(theta[2]) - np.sin(theta[2])*np.cos(theta[0]),      np.sin(theta[1])*np.cos(theta[0])*np.cos(theta[2]) + np.sin(theta[0])*np.sin(theta[2])],\n",
    "                  [np.sin(theta[2])*np.cos(theta[1]),       np.sin(theta[0])*np.sin(theta[1])*np.sin(theta[2]) + np.cos(theta[0])*np.cos(theta[2]),      np.sin(theta[1])*np.sin(theta[2])*np.cos(theta[0]) - np.sin(theta[0])*np.cos(theta[2])],\n",
    "                  [-np.sin(theta[1]),                        np.sin(theta[0])*np.cos(theta[1]),                                                           np.cos(theta[0])*np.cos(theta[1])]])\n",
    "\n",
    "    return R\n",
    "\n",
    "def eul2orient(theta): #Radians\n",
    "    g = np.array([[np.cos(theta[0])*np.cos(theta[2])-np.sin(theta[0])*np.sin(theta[2])*np.cos(theta[1]), np.sin(theta[0])*np.cos(theta[2])+np.cos(theta[0])*np.sin(theta[2])*np.cos(theta[1]), np.sin(theta[2])*np.sin(theta[1])],\n",
    "                  [(-1)*np.cos(theta[0])*np.sin(theta[2])-np.sin(theta[0])*np.cos(theta[2])*np.cos(theta[1]), (-1)*np.sin(theta[0])*np.sin(theta[2])+np.cos(theta[0])*np.cos(theta[2])*np.cos(theta[1]), np.cos(theta[2])*np.sin(theta[1])],\n",
    "                  [np.sin(theta[0])*np.cos(theta[1]), -np.cos(theta[0])*np.sin(theta[1]), np.cos(theta[1])]])\n",
    "\n",
    "    return g\n",
    "\n",
    "def orientation_matrix(euler1,euler2): #Radians\n",
    "    g_1=eul2orient(euler1)\n",
    "    g_2=eul2orient(euler2)\n",
    "    orientation_matrix=np.dot(g_1,np.linalg.inv(g_2))\n",
    "    return orientation_matrix\n",
    "\n",
    "def misorientation_angle(orientation_matrix):\n",
    "    cos_mori=(orientation_matrix[0][0]+orientation_matrix[1][1]+orientation_matrix[2][2]-1)/2 #Degrees\n",
    "    misorientation_angle=np.arccos(cos_mori)\n",
    "    misorientation_angle=np.degrees(misorientation_angle)   \n",
    "    return misorientation_angle\n",
    "\n",
    "def misorientation_angle_2(R1): # From Sabines Code\n",
    "    misang1 = np.arccos(0.5*(R1[0,0]+R1[1,1]+R1[2,2]-1))\n",
    "    \n",
    "    p1 = (R1[2,1]-R1[1,2])/(2*np.sin(misang1))\n",
    "    p2 = (R1[0,2]-R1[2,0])/(2*np.sin(misang1))\n",
    "    p3 = (R1[1,0]-R1[0,1])/(2*np.sin(misang1))\n",
    "\n",
    "    ax = [p1,p2,p3]\n",
    "    ang = misang1\n",
    "    ax = ax/np.linalg.norm(ax)\n",
    "    ang=np.degrees(ang)\n",
    "    return ang, ax\n",
    "\n",
    "def eu2qu(Eul):\n",
    "    \n",
    "    P = -1\n",
    "    \n",
    "    o = (Eul[0]+Eul[2])/2 \n",
    "    d = (Eul[0]-Eul[2])/2\n",
    "    c = np.cos(Eul[1]/2)\n",
    "    s = np.sin(Eul[1]/2)\n",
    "    q = [c*np.cos(o), -P*s*np.cos(d), -P*s*np.sin(d), -P*c*np.sin(o)]\n",
    "\n",
    "    if c*np.cos(o) <0:\n",
    "        q = [-c*np.cos(o), P*s*np.cos(d), P*s*np.sin(d), P*c*np.sin(o)]\n",
    "\n",
    "    else:\n",
    "        q = [c*np.cos(o), -P*s*np.cos(d), -P*s*np.sin(d), -P*c*np.sin(o)]\n",
    "    return q \n",
    "\n",
    "def ax2qu(ax, ang):\n",
    "    q = [np.cos(ang/2), np.sin(ang/2)*ax[0], np.sin(ang/2)*ax[1], np.sin(ang/2)*ax[2]]\n",
    "    \n",
    "    return q"
   ]
  },
  {
   "cell_type": "code",
   "execution_count": 15,
   "metadata": {},
   "outputs": [
    {
     "name": "stderr",
     "output_type": "stream",
     "text": [
      "<ipython-input-14-9d8f2965eed9>:29: RuntimeWarning: invalid value encountered in arccos\n",
      "  misorientation_angle=np.arccos(cos_mori)\n"
     ]
    }
   ],
   "source": [
    "misor=[]\n",
    "misor_2=[]\n",
    "\n",
    "for i,euler in enumerate(eul1):\n",
    "    m_orientation=orientation_matrix(eul1[i],eul2[i])\n",
    "    misor_angle=misorientation_angle(m_orientation)\n",
    "    misor.append(misor_angle)\n",
    "\n",
    "\n",
    "#for i,euler in enumerate(eul1):\n",
    "    #m_orientation=orientation_matrix(eul1[i],eul2[i])\n",
    "    #misorientation_angle(m_orientation)\n",
    "    #misor_angle=misorientation_angle(m_orientation)\n",
    "    #if misor_angle >= 60:\n",
    "        #m_orientation=orientation_matrix(eul2[i],eul1[i])\n",
    "        #misor_angle=misorientation_angle(m_orientation)\n",
    "    #misor_2.append(misorientation_angle_2(m_orientation))"
   ]
  },
  {
   "cell_type": "code",
   "execution_count": 16,
   "metadata": {},
   "outputs": [
    {
     "name": "stderr",
     "output_type": "stream",
     "text": [
      "<ipython-input-16-b8a4cfcb04ec>:4: MatplotlibDeprecationWarning: Adding an axes using the same arguments as a previous axes currently reuses the earlier instance.  In a future version, a new instance will always be created and returned.  Meanwhile, this warning can be suppressed, and the future behavior ensured, by passing a unique label to each axes instance.\n",
      "  axes = plt.axes()\n"
     ]
    },
    {
     "data": {
      "text/plain": [
       "<matplotlib.legend.Legend at 0x7fd865840910>"
      ]
     },
     "execution_count": 16,
     "metadata": {},
     "output_type": "execute_result"
    },
    {
     "data": {
      "image/png": "[encoded data removed]",
      "text/plain": [
       "<Figure size 720x504 with 1 Axes>"
      ]
     },
     "metadata": {
      "needs_background": "light"
     },
     "output_type": "display_data"
    }
   ],
   "source": [
    "plt.figure(figsize=(10,7))\n",
    "plt.plot(mis_angle[:200],'b*',label='EBSD')\n",
    "plt.plot(misor[:200],'rx',label='Analytic_1')\n",
    "axes = plt.axes()\n",
    "axes.set_ylim([0, 60])\n",
    "plt.legend(bbox_to_anchor=(1.05, 1), prop={'size': 12}, loc='upper left', borderaxespad=0.)\n",
    "#plt.savefig('Misorientation.png' , bbox_inches='tight')"
   ]
  },
  {
   "cell_type": "code",
   "execution_count": 17,
   "metadata": {},
   "outputs": [
    {
     "name": "stdout",
     "output_type": "stream",
     "text": [
      "18.686525853721275\n"
     ]
    }
   ],
   "source": [
    "# Error Value, less than 60 degrees\n",
    "error=[]\n",
    "\n",
    "for i ,angle in enumerate(misor):\n",
    "    if angle<60:\n",
    "        er=(abs(mis_angle[i]-angle)/mis_angle[i])*100\n",
    "        error.append(er)\n",
    "print(np.average(error))"
   ]
  },
  {
   "cell_type": "code",
   "execution_count": 76,
   "metadata": {},
   "outputs": [
    {
     "name": "stderr",
     "output_type": "stream",
     "text": [
      "<ipython-input-76-717b112f8403>:15: RuntimeWarning: divide by zero encountered in double_scalars\n",
      "  inplane = np.pi-np.arctan(nl[1]/nl[0])\n"
     ]
    }
   ],
   "source": [
    "### Find trace angle with respect to shock loading. For data I've got from Veronica\n",
    "### so far, that means the shock loading is in the x-direction TSL Eulerian space. \n",
    "### Therefore, 'run' = y-axis and 'rise' = x-axis. Tan(trace)=rise/run\n",
    "\n",
    "trace_angle=[]\n",
    "for i,data in enumerate(gbdata):\n",
    "    nl = [0,0]\n",
    "    nl[0]=endptsx[i]-staptsx[i]\n",
    "    nl[1]=endptsy[i]-staptsy[i]\n",
    "\n",
    "    if nl[1]==0:\n",
    "        inplane = np.pi\n",
    "    else:\n",
    "        #inplane = np.arctan(nl[1]/nl[0]) + np.pi/2\n",
    "        inplane = np.pi - np.arctan(nl[1]/nl[0])\n",
    "    \n",
    "    if inplane < 0:\n",
    "        inplane = np.pi + inplane\n",
    "    if inplane > np.pi:\n",
    "        inplane = inplane - np.pi\n",
    "        \n",
    "    ### second trace angle since out of plane is from 0 to 90.\n",
    "    inplane2 = inplane + np.pi\n",
    "    trace_angle.append(np.degrees(inplane))"
   ]
  },
  {
   "cell_type": "code",
   "execution_count": 79,
   "metadata": {},
   "outputs": [
    {
     "data": {
      "image/png": "[encoded data removed]",
      "text/plain": [
       "<Figure size 720x504 with 1 Axes>"
      ]
     },
     "metadata": {
      "needs_background": "light"
     },
     "output_type": "display_data"
    }
   ],
   "source": [
    "plt.figure(figsize=(10,7))\n",
    "plt.plot(trace[:100],'rx',label='EBSD')\n",
    "plt.plot(trace_angle[:100],'gx',label='Analytic')\n",
    "#plt.plot(trace[:100],'bx',label='Txt')\n",
    "plt.legend(bbox_to_anchor=(1.05, 1), prop={'size': 12}, loc='upper left', borderaxespad=0.)\n",
    "plt.savefig('Trace.png' , bbox_inches='tight')"
   ]
  },
  {
   "cell_type": "code",
   "execution_count": 29,
   "metadata": {},
   "outputs": [],
   "source": [
    "trace_round=np.round(np.array(trace_angle),1)"
   ]
  },
  {
   "cell_type": "code",
   "execution_count": 78,
   "metadata": {},
   "outputs": [
    {
     "name": "stdout",
     "output_type": "stream",
     "text": [
      "0.08682603378047835\n"
     ]
    }
   ],
   "source": [
    "# Error Value, less than 60 degrees\n",
    "error_trace=[]\n",
    "\n",
    "for i ,trace_ang in enumerate(trace):\n",
    "    if angle<60:\n",
    "        er=(abs(trace_angle[i]-trace_ang)/trace_ang)*100\n",
    "        error_trace.append(er)\n",
    "print(np.average(error_trace))"
   ]
  },
  {
   "cell_type": "code",
   "execution_count": 72,
   "metadata": {},
   "outputs": [
    {
     "name": "stdout",
     "output_type": "stream",
     "text": [
      "59.88626684901748\n",
      "30.0\n"
     ]
    }
   ],
   "source": [
    "print(trace_angle[2])\n",
    "print(trace[2])"
   ]
  },
  {
   "cell_type": "code",
   "execution_count": 69,
   "metadata": {},
   "outputs": [
    {
     "name": "stdout",
     "output_type": "stream",
     "text": [
      "[1.0, 0.5700000000000003]\n",
      "150.3168598208767\n"
     ]
    }
   ],
   "source": [
    "nl = [0,0]\n",
    "nl[0]=endptsx[1]-staptsx[1]\n",
    "nl[1]=endptsy[1]-staptsy[1]\n",
    "print(nl)\n",
    "print(np.degrees(np.pi-np.arctan(nl[1]/nl[0])))"
   ]
  }
 ],
 "metadata": {
  "kernelspec": {
   "display_name": "Python 3",
   "language": "python",
   "name": "python3"
  },
  "language_info": {
   "codemirror_mode": {
    "name": "ipython",
    "version": 3
   },
   "file_extension": ".py",
   "mimetype": "text/x-python",
   "name": "python",
   "nbconvert_exporter": "python",
   "pygments_lexer": "ipython3",
   "version": "3.8.5"
  }
 },
 "nbformat": 4,
 "nbformat_minor": 4
}
