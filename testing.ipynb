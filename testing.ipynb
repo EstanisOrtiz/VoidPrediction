{
 "cells": [
  {
   "cell_type": "code",
   "execution_count": 1,
   "metadata": {},
   "outputs": [],
   "source": [
    "import cv2\n",
    "import numpy as np\n",
    "import matplotlib.pyplot as plt\n",
    "import pandas as pd\n",
    "from matplotlib.patches import Circle\n",
    "import os.path\n",
    "import seaborn as sns\n",
    "from scipy import stats\n",
    "from sklearn.model_selection import train_test_split\n",
    "\n",
    "\n",
    "# Custom modules\n",
    "from modules import voiddetect as vd\n",
    "from modules import select_voidboundaries as sel\n",
    "from modules import void_analysis as voidanlys\n",
    "from modules import gbvoid_dataset as gbvoid"
   ]
  },
  {
   "cell_type": "code",
   "execution_count": 2,
   "metadata": {},
   "outputs": [],
   "source": [
    "inputs = ['1_001', '1_002', '1_003', '1_004', '1_005', '1_006', '1_007', '1_008', '1_009', '1_010',\n",
    "          '2_001', '2_002', '2_003', '2_004', '2_005', '2_006', '2_007', '2_008', '2_009',\n",
    "          '3_001', '3_002', '3_003', '3_004', '3_005', '3_006', '3_007', '3_008', '3_009', '3_010',\n",
    "          '4_001', '4_002', '4_003', '4_004', '4_005', '4_007', '4_008', '4_009',\n",
    "          '5_001', '5_002', '5_003', '5_004', '5_005', '5_006', '5_007', '5_008', '5_009', '5_010', '5_011',\n",
    "          '6_001', '6_002', '6_003', '6_004', '6_005', '6_006', '6_007', '6_008', '6_009']\n",
    "\n",
    "#name=['1_001']"
   ]
  },
  {
   "cell_type": "code",
   "execution_count": 3,
   "metadata": {},
   "outputs": [],
   "source": [
    "#class GB:\n",
    "    #__init__(self, x):\n",
    "        #self.x = x\n",
    "        \n",
    "    #func computeEnergy():\n",
    "        #return x*2\n",
    "        \n",
    "#mygb = GB(x=3)\n",
    "\n",
    "#mygb.computeEnergy()"
   ]
  },
  {
   "cell_type": "code",
   "execution_count": 4,
   "metadata": {},
   "outputs": [],
   "source": [
    "columns_void=['phi1_right','PHI_right','phi2_right','phi1_left','PHI_left','phi2_left',\n",
    "         'Misorientation Angle','Mis. X in Right Hand Grain','Mis. Y in Right Hand Grain', 'Mis. Z in Right Hand Grain',\n",
    "         'Mis. X in Right Hand Grain','Mis. Y in Right Hand Grain','Mis. Z in Right Hand Grain',\n",
    "         'Lenght','Trace', 'X start', 'Y start', 'X end','Y end','ID Right Grain', 'ID Left Grain', 'Void']\n",
    "\n",
    "columns_drop=['ID Right Grain','ID Left Grain']\n",
    "\n",
    "# Collect all txt data\n",
    "data=[]\n",
    "for name in inputs:\n",
    "    void_dataset_temp = gbvoid.gbvoid_dataset(name)\n",
    "    data.append(void_dataset_temp)\n",
    "void_dataset=pd.concat(data, ignore_index='True')\n",
    "void_dataset.columns=columns_void\n",
    "\n",
    "# Drop ID grain form the dataset\n",
    "void_dataset=void_dataset.drop(columns_drop, axis=1)\n"
   ]
  },
  {
   "cell_type": "code",
   "execution_count": 5,
   "metadata": {},
   "outputs": [
    {
     "name": "stdout",
     "output_type": "stream",
     "text": [
      "1979\n",
      "195325\n",
      "1.013183156277998 %\n"
     ]
    }
   ],
   "source": [
    "number_voids=void_dataset.query('Void == \"1.0\"').Void.count()\n",
    "number_no_voids=void_dataset.query('Void == \"0.0\"').Void.count()\n",
    "print(number_voids)\n",
    "print(number_no_voids)\n",
    "rate_void=(number_voids/number_no_voids)*100\n",
    "print(rate_void,'%')\n",
    "#void_dataset.loc[void_dataset.Void=='1.0','Void'].count()\n",
    "#len(void_dataset[void_dataset['Void']=='1.0'])"
   ]
  },
  {
   "cell_type": "code",
   "execution_count": 6,
   "metadata": {},
   "outputs": [
    {
     "data": {
      "text/html": [
       "<div>\n",
       "<style scoped>\n",
       "    .dataframe tbody tr th:only-of-type {\n",
       "        vertical-align: middle;\n",
       "    }\n",
       "\n",
       "    .dataframe tbody tr th {\n",
       "        vertical-align: top;\n",
       "    }\n",
       "\n",
       "    .dataframe thead th {\n",
       "        text-align: right;\n",
       "    }\n",
       "</style>\n",
       "<table border=\"1\" class=\"dataframe\">\n",
       "  <thead>\n",
       "    <tr style=\"text-align: right;\">\n",
       "      <th></th>\n",
       "      <th>phi1_right</th>\n",
       "      <th>PHI_right</th>\n",
       "      <th>phi2_right</th>\n",
       "      <th>phi1_left</th>\n",
       "      <th>PHI_left</th>\n",
       "      <th>phi2_left</th>\n",
       "      <th>Misorientation Angle</th>\n",
       "      <th>Mis. X in Right Hand Grain</th>\n",
       "      <th>Mis. Y in Right Hand Grain</th>\n",
       "      <th>Mis. Z in Right Hand Grain</th>\n",
       "      <th>Mis. X in Right Hand Grain</th>\n",
       "      <th>Mis. Y in Right Hand Grain</th>\n",
       "      <th>Mis. Z in Right Hand Grain</th>\n",
       "      <th>Lenght</th>\n",
       "      <th>Trace</th>\n",
       "      <th>X start</th>\n",
       "      <th>Y start</th>\n",
       "      <th>X end</th>\n",
       "      <th>Y end</th>\n",
       "    </tr>\n",
       "    <tr>\n",
       "      <th>Void</th>\n",
       "      <th></th>\n",
       "      <th></th>\n",
       "      <th></th>\n",
       "      <th></th>\n",
       "      <th></th>\n",
       "      <th></th>\n",
       "      <th></th>\n",
       "      <th></th>\n",
       "      <th></th>\n",
       "      <th></th>\n",
       "      <th></th>\n",
       "      <th></th>\n",
       "      <th></th>\n",
       "      <th></th>\n",
       "      <th></th>\n",
       "      <th></th>\n",
       "      <th></th>\n",
       "      <th></th>\n",
       "      <th></th>\n",
       "    </tr>\n",
       "  </thead>\n",
       "  <tbody>\n",
       "    <tr>\n",
       "      <th>0.0</th>\n",
       "      <td>2.993564</td>\n",
       "      <td>0.541945</td>\n",
       "      <td>3.291484</td>\n",
       "      <td>2.990680</td>\n",
       "      <td>0.540680</td>\n",
       "      <td>3.294596</td>\n",
       "      <td>38.734457</td>\n",
       "      <td>-0.037573</td>\n",
       "      <td>-0.056270</td>\n",
       "      <td>0.010905</td>\n",
       "      <td>-0.037573</td>\n",
       "      <td>-0.056270</td>\n",
       "      <td>0.010905</td>\n",
       "      <td>15.528026</td>\n",
       "      <td>94.717469</td>\n",
       "      <td>485.562862</td>\n",
       "      <td>524.841783</td>\n",
       "      <td>496.882544</td>\n",
       "      <td>525.504727</td>\n",
       "    </tr>\n",
       "    <tr>\n",
       "      <th>1.0</th>\n",
       "      <td>3.002167</td>\n",
       "      <td>0.553098</td>\n",
       "      <td>3.235250</td>\n",
       "      <td>3.074689</td>\n",
       "      <td>0.556421</td>\n",
       "      <td>3.180379</td>\n",
       "      <td>36.208050</td>\n",
       "      <td>-0.095503</td>\n",
       "      <td>-0.277413</td>\n",
       "      <td>0.203133</td>\n",
       "      <td>-0.095503</td>\n",
       "      <td>-0.277413</td>\n",
       "      <td>0.203133</td>\n",
       "      <td>14.812751</td>\n",
       "      <td>95.769378</td>\n",
       "      <td>471.294088</td>\n",
       "      <td>481.898979</td>\n",
       "      <td>482.550783</td>\n",
       "      <td>482.651475</td>\n",
       "    </tr>\n",
       "  </tbody>\n",
       "</table>\n",
       "</div>"
      ],
      "text/plain": [
       "      phi1_right  PHI_right  phi2_right  phi1_left  PHI_left  phi2_left  \\\n",
       "Void                                                                      \n",
       "0.0     2.993564   0.541945    3.291484   2.990680  0.540680   3.294596   \n",
       "1.0     3.002167   0.553098    3.235250   3.074689  0.556421   3.180379   \n",
       "\n",
       "      Misorientation Angle  Mis. X in Right Hand Grain  \\\n",
       "Void                                                     \n",
       "0.0              38.734457                   -0.037573   \n",
       "1.0              36.208050                   -0.095503   \n",
       "\n",
       "      Mis. Y in Right Hand Grain  Mis. Z in Right Hand Grain  \\\n",
       "Void                                                           \n",
       "0.0                    -0.056270                    0.010905   \n",
       "1.0                    -0.277413                    0.203133   \n",
       "\n",
       "      Mis. X in Right Hand Grain  Mis. Y in Right Hand Grain  \\\n",
       "Void                                                           \n",
       "0.0                    -0.037573                   -0.056270   \n",
       "1.0                    -0.095503                   -0.277413   \n",
       "\n",
       "      Mis. Z in Right Hand Grain     Lenght      Trace     X start  \\\n",
       "Void                                                                 \n",
       "0.0                     0.010905  15.528026  94.717469  485.562862   \n",
       "1.0                     0.203133  14.812751  95.769378  471.294088   \n",
       "\n",
       "         Y start       X end       Y end  \n",
       "Void                                      \n",
       "0.0   524.841783  496.882544  525.504727  \n",
       "1.0   481.898979  482.550783  482.651475  "
      ]
     },
     "execution_count": 6,
     "metadata": {},
     "output_type": "execute_result"
    }
   ],
   "source": [
    "void_dataset.groupby('Void').mean()"
   ]
  },
  {
   "cell_type": "code",
   "execution_count": 7,
   "metadata": {},
   "outputs": [],
   "source": [
    "X_train, X_test, y_train, Y_test = train_test_split(void_dataset.drop('Void', axis=1),void_dataset['Void'], test_size=0.20, random_state=0)"
   ]
  },
  {
   "cell_type": "code",
   "execution_count": 8,
   "metadata": {},
   "outputs": [],
   "source": [
    "# Define pa_pic\n",
    "#trace_angle, mis_angle, void_Y = voidanlys.void_analysis(name, pa_pic, gbdata, selected_data)"
   ]
  },
  {
   "cell_type": "code",
   "execution_count": 9,
   "metadata": {},
   "outputs": [
    {
     "ename": "NameError",
     "evalue": "name 'gbdata' is not defined",
     "output_type": "error",
     "traceback": [
      "\u001b[0;31m---------------------------------------------------------------------------\u001b[0m",
      "\u001b[0;31mNameError\u001b[0m                                 Traceback (most recent call last)",
      "\u001b[0;32m<ipython-input-9-db23d2d67f8c>\u001b[0m in \u001b[0;36m<module>\u001b[0;34m\u001b[0m\n\u001b[1;32m      1\u001b[0m \u001b[0mvoid_trace\u001b[0m\u001b[0;34m=\u001b[0m\u001b[0;34m[\u001b[0m\u001b[0;34m]\u001b[0m\u001b[0;34m\u001b[0m\u001b[0;34m\u001b[0m\u001b[0m\n\u001b[0;32m----> 2\u001b[0;31m \u001b[0;32mfor\u001b[0m \u001b[0mi\u001b[0m\u001b[0;34m,\u001b[0m \u001b[0mgbinfo\u001b[0m \u001b[0;32min\u001b[0m \u001b[0menumerate\u001b[0m\u001b[0;34m(\u001b[0m\u001b[0mgbdata\u001b[0m\u001b[0;34m)\u001b[0m\u001b[0;34m:\u001b[0m\u001b[0;34m\u001b[0m\u001b[0;34m\u001b[0m\u001b[0m\n\u001b[0m\u001b[1;32m      3\u001b[0m     \u001b[0;32mif\u001b[0m \u001b[0mi\u001b[0m \u001b[0;32min\u001b[0m \u001b[0mselected_data\u001b[0m\u001b[0;34m:\u001b[0m\u001b[0;34m\u001b[0m\u001b[0;34m\u001b[0m\u001b[0m\n\u001b[1;32m      4\u001b[0m         \u001b[0mvoid_trace\u001b[0m\u001b[0;34m.\u001b[0m\u001b[0mappend\u001b[0m\u001b[0;34m(\u001b[0m\u001b[0mtrace_angle\u001b[0m\u001b[0;34m[\u001b[0m\u001b[0mi\u001b[0m\u001b[0;34m]\u001b[0m\u001b[0;34m)\u001b[0m\u001b[0;34m\u001b[0m\u001b[0;34m\u001b[0m\u001b[0m\n\u001b[1;32m      5\u001b[0m \u001b[0;34m\u001b[0m\u001b[0m\n",
      "\u001b[0;31mNameError\u001b[0m: name 'gbdata' is not defined"
     ]
    }
   ],
   "source": [
    "void_trace=[]\n",
    "for i, gbinfo in enumerate(gbdata):\n",
    "    if i in selected_data:\n",
    "        void_trace.append(trace_angle[i])\n",
    "        \n",
    "df = pd.Series(void_trace)\n",
    "df"
   ]
  },
  {
   "cell_type": "code",
   "execution_count": null,
   "metadata": {},
   "outputs": [],
   "source": [
    "df.mean()"
   ]
  },
  {
   "cell_type": "code",
   "execution_count": null,
   "metadata": {},
   "outputs": [],
   "source": [
    "plt.plot(df,'ro')"
   ]
  },
  {
   "cell_type": "code",
   "execution_count": null,
   "metadata": {},
   "outputs": [],
   "source": [
    "sns.distplot(df);"
   ]
  },
  {
   "cell_type": "code",
   "execution_count": null,
   "metadata": {},
   "outputs": [],
   "source": [
    "sns.distplot(df, kde=False, fit=stats.gamma);"
   ]
  },
  {
   "cell_type": "code",
   "execution_count": null,
   "metadata": {},
   "outputs": [],
   "source": [
    "# Create linear regression object\n",
    "regr = linear_model.LinearRegression()\n",
    "\n",
    "# Train the model using the training sets\n",
    "regr.fit(df, diabetes_y_train)\n",
    "\n",
    "# Make predictions using the testing set\n",
    "diabetes_y_pred = regr.predict(diabetes_X_test)\n",
    "\n",
    "# The coefficients\n",
    "print('Coefficients: \\n', regr.coef_)\n",
    "# The mean squared error\n",
    "print('Mean squared error: %.2f'\n",
    "      % mean_squared_error(diabetes_y_test, diabetes_y_pred))\n",
    "# The coefficient of determination: 1 is perfect prediction\n",
    "print('Coefficient of determination: %.2f'\n",
    "      % r2_score(diabetes_y_test, diabetes_y_pred))\n",
    "\n",
    "# Plot outputs\n",
    "plt.scatter(diabetes_X_test, diabetes_y_test,  color='black')\n",
    "plt.plot(diabetes_X_test, diabetes_y_pred, color='blue', linewidth=3)\n",
    "\n",
    "plt.xticks(())\n",
    "plt.yticks(())\n",
    "\n",
    "plt.show()"
   ]
  }
 ],
 "metadata": {
  "kernelspec": {
   "display_name": "Python 3",
   "language": "python",
   "name": "python3"
  },
  "language_info": {
   "codemirror_mode": {
    "name": "ipython",
    "version": 3
   },
   "file_extension": ".py",
   "mimetype": "text/x-python",
   "name": "python",
   "nbconvert_exporter": "python",
   "pygments_lexer": "ipython3",
   "version": "3.7.3"
  }
 },
 "nbformat": 4,
 "nbformat_minor": 4
}
